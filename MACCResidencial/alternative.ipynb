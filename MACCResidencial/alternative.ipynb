{
 "cells": [
  {
   "cell_type": "code",
   "execution_count": null,
   "metadata": {},
   "outputs": [],
   "source": [
    "x = normalized_data[\"Mean_price\"]\n",
    "y = normalized_data[\"Mean_market_time\"]\n",
    "fig, ax = plt.subplots(figsize = (12,12))\n",
    "cmap = matplotlib.cm.get_cmap('Dark2', 7)\n",
    "ax.scatter(x, y, c=kmeans.labels_,s=200, cmap=cmap)\n",
    "for i,text in enumerate(normalized_data.index):\n",
    "  ax.annotate(text, (x[i]+0.02, y[i]))\n",
    "ax.spines[['right', 'top']].set_visible(False)\n",
    "x_space = (grouped_data[\"Mean_price\"].max()-grouped_data[\"Mean_price\"].min())/5\n",
    "y_space = (grouped_data[\"Mean_market_time\"].max()-grouped_data[\"Mean_market_time\"].min())/5\n",
    "x_labels = [int(n*x_space) for n in range(7)]\n",
    "y_labels = [int(n*y_space) for n in range(7)]\n",
    "ax.set_xticklabels(x_labels)\n",
    "ax.set_yticklabels(y_labels)\n",
    "ax.set_xlabel(\"Mean price\")\n",
    "ax.set_ylabel(\"Mean market price in days\")\n",
    "ax.set_title(\"Municipality clusters for $k=7$\")\n",
    "\n",
    "plt.show()"
   ]
  }
 ],
 "metadata": {
  "language_info": {
   "name": "python"
  },
  "orig_nbformat": 4
 },
 "nbformat": 4,
 "nbformat_minor": 2
}
