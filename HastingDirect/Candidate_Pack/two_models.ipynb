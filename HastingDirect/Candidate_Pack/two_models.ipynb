{
  "cells": [
    {
      "attachments": {},
      "cell_type": "markdown",
      "metadata": {},
      "source": [
        "# Hasting Direct Exercise\n",
        "\n",
        "In this exercise we are given a dataset of car insurance quotes and we have the task of exploring, cleansing and analysing the data in order to create a model that predicts how much each customer should be charged.\n",
        "\n",
        "Let us first import all the necessary modules."
      ]
    },
    {
      "cell_type": "code",
      "execution_count": 1,
      "metadata": {
        "id": "JIEu52a94Y4K"
      },
      "outputs": [],
      "source": [
        "import pandas as pd\n",
        "import numpy as np\n",
        "import matplotlib.pyplot as plt \n",
        "from statsmodels.stats.outliers_influence import variance_inflation_factor\n",
        "from statsmodels.tools.tools import add_constant\n",
        "from sklearn import preprocessing\n",
        "from sklearn.model_selection import train_test_split\n",
        "from sklearn.metrics import mean_squared_error\n",
        "from xgboost import XGBRegressor, plot_importance"
      ]
    },
    {
      "attachments": {},
      "cell_type": "markdown",
      "metadata": {},
      "source": [
        "## Data cleansing and analysis\n",
        "Before any modelling we need to explore the data so that we can cleanse it. This will require as well some analysis of distribution and correlation of the features, to understand which features are more relevant and which values might be erroneous."
      ]
    },
    {
      "attachments": {},
      "cell_type": "markdown",
      "metadata": {},
      "source": [
        "First we read the dataset and have a glance at it."
      ]
    },
    {
      "cell_type": "code",
      "execution_count": 2,
      "metadata": {},
      "outputs": [
        {
          "data": {
            "text/html": [
              "<div>\n",
              "<style scoped>\n",
              "    .dataframe tbody tr th:only-of-type {\n",
              "        vertical-align: middle;\n",
              "    }\n",
              "\n",
              "    .dataframe tbody tr th {\n",
              "        vertical-align: top;\n",
              "    }\n",
              "\n",
              "    .dataframe thead th {\n",
              "        text-align: right;\n",
              "    }\n",
              "</style>\n",
              "<table border=\"1\" class=\"dataframe\">\n",
              "  <thead>\n",
              "    <tr style=\"text-align: right;\">\n",
              "      <th></th>\n",
              "      <th>Quote_ID</th>\n",
              "      <th>Quote_Date</th>\n",
              "      <th>Driver1_DOB</th>\n",
              "      <th>Driver1_Licence_Type</th>\n",
              "      <th>Driver1_Licence_Years</th>\n",
              "      <th>Driver2_Licence_Type</th>\n",
              "      <th>Driver2_Licence_Years</th>\n",
              "      <th>Driver1_Convictions</th>\n",
              "      <th>Driver1_Claims</th>\n",
              "      <th>Driver1_Marital_Status</th>\n",
              "      <th>Vehicle_Age</th>\n",
              "      <th>Vehicle_Value</th>\n",
              "      <th>Tax</th>\n",
              "      <th>Vehicle_Annual_Mileage</th>\n",
              "      <th>Credit_Score</th>\n",
              "      <th>Payment_Type</th>\n",
              "      <th>Days_to_Inception</th>\n",
              "      <th>Premium</th>\n",
              "      <th>Capped_Premium</th>\n",
              "    </tr>\n",
              "  </thead>\n",
              "  <tbody>\n",
              "    <tr>\n",
              "      <th>0</th>\n",
              "      <td>190537</td>\n",
              "      <td>01/09/2020</td>\n",
              "      <td>16/06/1959</td>\n",
              "      <td>Full UK</td>\n",
              "      <td>34.0</td>\n",
              "      <td>NaN</td>\n",
              "      <td>NaN</td>\n",
              "      <td>No</td>\n",
              "      <td>0</td>\n",
              "      <td>Married</td>\n",
              "      <td>4</td>\n",
              "      <td>24178</td>\n",
              "      <td>3626.70</td>\n",
              "      <td>12849.0</td>\n",
              "      <td>240</td>\n",
              "      <td>Monthly</td>\n",
              "      <td>11</td>\n",
              "      <td>707.64</td>\n",
              "      <td>707.64</td>\n",
              "    </tr>\n",
              "    <tr>\n",
              "      <th>1</th>\n",
              "      <td>161332</td>\n",
              "      <td>06/01/2020</td>\n",
              "      <td>03/09/1977</td>\n",
              "      <td>Full UK</td>\n",
              "      <td>12.0</td>\n",
              "      <td>NaN</td>\n",
              "      <td>NaN</td>\n",
              "      <td>No</td>\n",
              "      <td>2</td>\n",
              "      <td>Married</td>\n",
              "      <td>14</td>\n",
              "      <td>1744</td>\n",
              "      <td>174.40</td>\n",
              "      <td>1250.0</td>\n",
              "      <td>200</td>\n",
              "      <td>Annual</td>\n",
              "      <td>4</td>\n",
              "      <td>1176.96</td>\n",
              "      <td>1176.96</td>\n",
              "    </tr>\n",
              "    <tr>\n",
              "      <th>2</th>\n",
              "      <td>161666</td>\n",
              "      <td>21/07/2020</td>\n",
              "      <td>24/03/1990</td>\n",
              "      <td>Full UK</td>\n",
              "      <td>9.0</td>\n",
              "      <td>NaN</td>\n",
              "      <td>20.0</td>\n",
              "      <td>No</td>\n",
              "      <td>0</td>\n",
              "      <td>Married</td>\n",
              "      <td>5</td>\n",
              "      <td>20199</td>\n",
              "      <td>3029.85</td>\n",
              "      <td>21847.0</td>\n",
              "      <td>644</td>\n",
              "      <td>Annual</td>\n",
              "      <td>0</td>\n",
              "      <td>594.84</td>\n",
              "      <td>594.84</td>\n",
              "    </tr>\n",
              "    <tr>\n",
              "      <th>3</th>\n",
              "      <td>171589</td>\n",
              "      <td>07/11/2020</td>\n",
              "      <td>11/03/1980</td>\n",
              "      <td>Full UK</td>\n",
              "      <td>17.0</td>\n",
              "      <td>Full UK</td>\n",
              "      <td>NaN</td>\n",
              "      <td>No</td>\n",
              "      <td>2</td>\n",
              "      <td>Married</td>\n",
              "      <td>6</td>\n",
              "      <td>12569</td>\n",
              "      <td>1885.35</td>\n",
              "      <td>12266.0</td>\n",
              "      <td>548</td>\n",
              "      <td>Annual</td>\n",
              "      <td>0</td>\n",
              "      <td>1282.56</td>\n",
              "      <td>1282.56</td>\n",
              "    </tr>\n",
              "    <tr>\n",
              "      <th>4</th>\n",
              "      <td>154037</td>\n",
              "      <td>16/08/2020</td>\n",
              "      <td>17/09/1977</td>\n",
              "      <td>Full UK</td>\n",
              "      <td>25.0</td>\n",
              "      <td>Full UK</td>\n",
              "      <td>NaN</td>\n",
              "      <td>No</td>\n",
              "      <td>0</td>\n",
              "      <td>Separated</td>\n",
              "      <td>8</td>\n",
              "      <td>11395</td>\n",
              "      <td>1709.25</td>\n",
              "      <td>11117.0</td>\n",
              "      <td>393</td>\n",
              "      <td>Annual</td>\n",
              "      <td>30</td>\n",
              "      <td>1471.02</td>\n",
              "      <td>1471.02</td>\n",
              "    </tr>\n",
              "    <tr>\n",
              "      <th>...</th>\n",
              "      <td>...</td>\n",
              "      <td>...</td>\n",
              "      <td>...</td>\n",
              "      <td>...</td>\n",
              "      <td>...</td>\n",
              "      <td>...</td>\n",
              "      <td>...</td>\n",
              "      <td>...</td>\n",
              "      <td>...</td>\n",
              "      <td>...</td>\n",
              "      <td>...</td>\n",
              "      <td>...</td>\n",
              "      <td>...</td>\n",
              "      <td>...</td>\n",
              "      <td>...</td>\n",
              "      <td>...</td>\n",
              "      <td>...</td>\n",
              "      <td>...</td>\n",
              "      <td>...</td>\n",
              "    </tr>\n",
              "    <tr>\n",
              "      <th>49995</th>\n",
              "      <td>121858</td>\n",
              "      <td>11/05/2020</td>\n",
              "      <td>03/12/1990</td>\n",
              "      <td>Full UK</td>\n",
              "      <td>12.0</td>\n",
              "      <td>NaN</td>\n",
              "      <td>24.0</td>\n",
              "      <td>No</td>\n",
              "      <td>0</td>\n",
              "      <td>Other</td>\n",
              "      <td>14</td>\n",
              "      <td>1633</td>\n",
              "      <td>244.95</td>\n",
              "      <td>1074.0</td>\n",
              "      <td>397</td>\n",
              "      <td>Annual</td>\n",
              "      <td>30</td>\n",
              "      <td>451.50</td>\n",
              "      <td>451.50</td>\n",
              "    </tr>\n",
              "    <tr>\n",
              "      <th>49996</th>\n",
              "      <td>184868</td>\n",
              "      <td>02/07/2020</td>\n",
              "      <td>01/08/1992</td>\n",
              "      <td>Full UK</td>\n",
              "      <td>1.0</td>\n",
              "      <td>Full UK</td>\n",
              "      <td>25.0</td>\n",
              "      <td>No</td>\n",
              "      <td>0</td>\n",
              "      <td>Married</td>\n",
              "      <td>6</td>\n",
              "      <td>8050</td>\n",
              "      <td>1207.50</td>\n",
              "      <td>2987.0</td>\n",
              "      <td>158</td>\n",
              "      <td>Monthly</td>\n",
              "      <td>4</td>\n",
              "      <td>1375.59</td>\n",
              "      <td>1375.59</td>\n",
              "    </tr>\n",
              "    <tr>\n",
              "      <th>49997</th>\n",
              "      <td>182922</td>\n",
              "      <td>05/01/2020</td>\n",
              "      <td>18/07/1989</td>\n",
              "      <td>Automatic</td>\n",
              "      <td>13.0</td>\n",
              "      <td>NaN</td>\n",
              "      <td>24.0</td>\n",
              "      <td>No</td>\n",
              "      <td>0</td>\n",
              "      <td>Civil Partnership</td>\n",
              "      <td>8</td>\n",
              "      <td>11124</td>\n",
              "      <td>1112.40</td>\n",
              "      <td>3364.0</td>\n",
              "      <td>328</td>\n",
              "      <td>Annual</td>\n",
              "      <td>3</td>\n",
              "      <td>1207.05</td>\n",
              "      <td>1207.05</td>\n",
              "    </tr>\n",
              "    <tr>\n",
              "      <th>49998</th>\n",
              "      <td>183787</td>\n",
              "      <td>14/11/2020</td>\n",
              "      <td>17/11/1949</td>\n",
              "      <td>Full UK</td>\n",
              "      <td>0.0</td>\n",
              "      <td>Provisional UK</td>\n",
              "      <td>11.0</td>\n",
              "      <td>No</td>\n",
              "      <td>0</td>\n",
              "      <td>Single</td>\n",
              "      <td>3</td>\n",
              "      <td>10821</td>\n",
              "      <td>1623.15</td>\n",
              "      <td>9303.0</td>\n",
              "      <td>277</td>\n",
              "      <td>Monthly</td>\n",
              "      <td>0</td>\n",
              "      <td>1776.93</td>\n",
              "      <td>1776.93</td>\n",
              "    </tr>\n",
              "    <tr>\n",
              "      <th>49999</th>\n",
              "      <td>141008</td>\n",
              "      <td>25/07/2020</td>\n",
              "      <td>25/12/1958</td>\n",
              "      <td>Full UK</td>\n",
              "      <td>32.0</td>\n",
              "      <td>NaN</td>\n",
              "      <td>22.0</td>\n",
              "      <td>No</td>\n",
              "      <td>2</td>\n",
              "      <td>Single</td>\n",
              "      <td>13</td>\n",
              "      <td>1456</td>\n",
              "      <td>218.40</td>\n",
              "      <td>1360.0</td>\n",
              "      <td>774</td>\n",
              "      <td>Monthly</td>\n",
              "      <td>2</td>\n",
              "      <td>824.40</td>\n",
              "      <td>824.40</td>\n",
              "    </tr>\n",
              "  </tbody>\n",
              "</table>\n",
              "<p>50000 rows × 19 columns</p>\n",
              "</div>"
            ],
            "text/plain": [
              "       Quote_ID  Quote_Date Driver1_DOB Driver1_Licence_Type   \n",
              "0        190537  01/09/2020  16/06/1959              Full UK  \\\n",
              "1        161332  06/01/2020  03/09/1977              Full UK   \n",
              "2        161666  21/07/2020  24/03/1990              Full UK   \n",
              "3        171589  07/11/2020  11/03/1980              Full UK   \n",
              "4        154037  16/08/2020  17/09/1977              Full UK   \n",
              "...         ...         ...         ...                  ...   \n",
              "49995    121858  11/05/2020  03/12/1990              Full UK   \n",
              "49996    184868  02/07/2020  01/08/1992              Full UK   \n",
              "49997    182922  05/01/2020  18/07/1989            Automatic   \n",
              "49998    183787  14/11/2020  17/11/1949              Full UK   \n",
              "49999    141008  25/07/2020  25/12/1958              Full UK   \n",
              "\n",
              "       Driver1_Licence_Years Driver2_Licence_Type  Driver2_Licence_Years   \n",
              "0                       34.0                  NaN                    NaN  \\\n",
              "1                       12.0                  NaN                    NaN   \n",
              "2                        9.0                  NaN                   20.0   \n",
              "3                       17.0              Full UK                    NaN   \n",
              "4                       25.0              Full UK                    NaN   \n",
              "...                      ...                  ...                    ...   \n",
              "49995                   12.0                  NaN                   24.0   \n",
              "49996                    1.0              Full UK                   25.0   \n",
              "49997                   13.0                  NaN                   24.0   \n",
              "49998                    0.0       Provisional UK                   11.0   \n",
              "49999                   32.0                  NaN                   22.0   \n",
              "\n",
              "      Driver1_Convictions  Driver1_Claims Driver1_Marital_Status  Vehicle_Age   \n",
              "0                      No               0                Married            4  \\\n",
              "1                      No               2                Married           14   \n",
              "2                      No               0                Married            5   \n",
              "3                      No               2                Married            6   \n",
              "4                      No               0              Separated            8   \n",
              "...                   ...             ...                    ...          ...   \n",
              "49995                  No               0                  Other           14   \n",
              "49996                  No               0                Married            6   \n",
              "49997                  No               0      Civil Partnership            8   \n",
              "49998                  No               0                 Single            3   \n",
              "49999                  No               2                 Single           13   \n",
              "\n",
              "       Vehicle_Value      Tax  Vehicle_Annual_Mileage  Credit_Score   \n",
              "0              24178  3626.70                 12849.0           240  \\\n",
              "1               1744   174.40                  1250.0           200   \n",
              "2              20199  3029.85                 21847.0           644   \n",
              "3              12569  1885.35                 12266.0           548   \n",
              "4              11395  1709.25                 11117.0           393   \n",
              "...              ...      ...                     ...           ...   \n",
              "49995           1633   244.95                  1074.0           397   \n",
              "49996           8050  1207.50                  2987.0           158   \n",
              "49997          11124  1112.40                  3364.0           328   \n",
              "49998          10821  1623.15                  9303.0           277   \n",
              "49999           1456   218.40                  1360.0           774   \n",
              "\n",
              "      Payment_Type  Days_to_Inception  Premium  Capped_Premium  \n",
              "0          Monthly                 11   707.64          707.64  \n",
              "1           Annual                  4  1176.96         1176.96  \n",
              "2           Annual                  0   594.84          594.84  \n",
              "3           Annual                  0  1282.56         1282.56  \n",
              "4           Annual                 30  1471.02         1471.02  \n",
              "...            ...                ...      ...             ...  \n",
              "49995       Annual                 30   451.50          451.50  \n",
              "49996      Monthly                  4  1375.59         1375.59  \n",
              "49997       Annual                  3  1207.05         1207.05  \n",
              "49998      Monthly                  0  1776.93         1776.93  \n",
              "49999      Monthly                  2   824.40          824.40  \n",
              "\n",
              "[50000 rows x 19 columns]"
            ]
          },
          "execution_count": 2,
          "metadata": {},
          "output_type": "execute_result"
        }
      ],
      "source": [
        "quotes = pd.read_csv(\"Grad_Scheme_Case_Study_Dataset.csv\")\n",
        "quotes"
      ]
    },
    {
      "attachments": {},
      "cell_type": "markdown",
      "metadata": {},
      "source": [
        "We are going to drop any duplicates. We use the Quote ID to identify duplicates. We can also check that all the duplicated Quote ID's are entirely duplicated, in other words, there are no two different quotes with the same ID."
      ]
    },
    {
      "cell_type": "code",
      "execution_count": 3,
      "metadata": {},
      "outputs": [
        {
          "data": {
            "text/plain": [
              "True"
            ]
          },
          "execution_count": 3,
          "metadata": {},
          "output_type": "execute_result"
        }
      ],
      "source": [
        "# The number of duplicated quote ID's is equal to the number of overall duplicates\n",
        "quotes[quotes.duplicated(subset = \"Quote_ID\",keep=\"first\")].shape[0] == quotes[quotes.duplicated(keep=\"first\")].shape[0]"
      ]
    },
    {
      "cell_type": "code",
      "execution_count": 4,
      "metadata": {},
      "outputs": [
        {
          "data": {
            "text/plain": [
              "49641"
            ]
          },
          "execution_count": 4,
          "metadata": {},
          "output_type": "execute_result"
        }
      ],
      "source": [
        "# We drop the duplicates and compute the new number of rows\n",
        "quotes.drop_duplicates(keep=\"first\",inplace=True, ignore_index=True)\n",
        "quotes.shape[0]"
      ]
    },
    {
      "attachments": {},
      "cell_type": "markdown",
      "metadata": {},
      "source": [
        "We can see that we have a similar amount of rows. From now we are going analyse each column to decide whether to keep it or drop it, see its range or unique values, and to find any missing or potentially wrong values. \n",
        "\n",
        "Let us start by the Quote ID. We ar enot really going to need this column for the model since it is just and identifier. However, before dropping it, we are going to check if there are any missing values, since these would not have been marked as duplicated."
      ]
    },
    {
      "cell_type": "code",
      "execution_count": 5,
      "metadata": {},
      "outputs": [
        {
          "data": {
            "text/plain": [
              "False"
            ]
          },
          "execution_count": 5,
          "metadata": {},
          "output_type": "execute_result"
        }
      ],
      "source": [
        "#No missing values\n",
        "any(quotes[\"Quote_ID\"].isna())"
      ]
    },
    {
      "cell_type": "code",
      "execution_count": 6,
      "metadata": {},
      "outputs": [
        {
          "data": {
            "text/html": [
              "<div>\n",
              "<style scoped>\n",
              "    .dataframe tbody tr th:only-of-type {\n",
              "        vertical-align: middle;\n",
              "    }\n",
              "\n",
              "    .dataframe tbody tr th {\n",
              "        vertical-align: top;\n",
              "    }\n",
              "\n",
              "    .dataframe thead th {\n",
              "        text-align: right;\n",
              "    }\n",
              "</style>\n",
              "<table border=\"1\" class=\"dataframe\">\n",
              "  <thead>\n",
              "    <tr style=\"text-align: right;\">\n",
              "      <th></th>\n",
              "      <th>Quote_Date</th>\n",
              "      <th>Driver1_DOB</th>\n",
              "      <th>Driver1_Licence_Type</th>\n",
              "      <th>Driver1_Licence_Years</th>\n",
              "      <th>Driver2_Licence_Type</th>\n",
              "      <th>Driver2_Licence_Years</th>\n",
              "      <th>Driver1_Convictions</th>\n",
              "      <th>Driver1_Claims</th>\n",
              "      <th>Driver1_Marital_Status</th>\n",
              "      <th>Vehicle_Age</th>\n",
              "      <th>Vehicle_Value</th>\n",
              "      <th>Tax</th>\n",
              "      <th>Vehicle_Annual_Mileage</th>\n",
              "      <th>Credit_Score</th>\n",
              "      <th>Payment_Type</th>\n",
              "      <th>Days_to_Inception</th>\n",
              "      <th>Premium</th>\n",
              "      <th>Capped_Premium</th>\n",
              "    </tr>\n",
              "  </thead>\n",
              "  <tbody>\n",
              "    <tr>\n",
              "      <th>0</th>\n",
              "      <td>01/09/2020</td>\n",
              "      <td>16/06/1959</td>\n",
              "      <td>Full UK</td>\n",
              "      <td>34.0</td>\n",
              "      <td>NaN</td>\n",
              "      <td>NaN</td>\n",
              "      <td>No</td>\n",
              "      <td>0</td>\n",
              "      <td>Married</td>\n",
              "      <td>4</td>\n",
              "      <td>24178</td>\n",
              "      <td>3626.70</td>\n",
              "      <td>12849.0</td>\n",
              "      <td>240</td>\n",
              "      <td>Monthly</td>\n",
              "      <td>11</td>\n",
              "      <td>707.64</td>\n",
              "      <td>707.64</td>\n",
              "    </tr>\n",
              "    <tr>\n",
              "      <th>1</th>\n",
              "      <td>06/01/2020</td>\n",
              "      <td>03/09/1977</td>\n",
              "      <td>Full UK</td>\n",
              "      <td>12.0</td>\n",
              "      <td>NaN</td>\n",
              "      <td>NaN</td>\n",
              "      <td>No</td>\n",
              "      <td>2</td>\n",
              "      <td>Married</td>\n",
              "      <td>14</td>\n",
              "      <td>1744</td>\n",
              "      <td>174.40</td>\n",
              "      <td>1250.0</td>\n",
              "      <td>200</td>\n",
              "      <td>Annual</td>\n",
              "      <td>4</td>\n",
              "      <td>1176.96</td>\n",
              "      <td>1176.96</td>\n",
              "    </tr>\n",
              "    <tr>\n",
              "      <th>2</th>\n",
              "      <td>21/07/2020</td>\n",
              "      <td>24/03/1990</td>\n",
              "      <td>Full UK</td>\n",
              "      <td>9.0</td>\n",
              "      <td>NaN</td>\n",
              "      <td>20.0</td>\n",
              "      <td>No</td>\n",
              "      <td>0</td>\n",
              "      <td>Married</td>\n",
              "      <td>5</td>\n",
              "      <td>20199</td>\n",
              "      <td>3029.85</td>\n",
              "      <td>21847.0</td>\n",
              "      <td>644</td>\n",
              "      <td>Annual</td>\n",
              "      <td>0</td>\n",
              "      <td>594.84</td>\n",
              "      <td>594.84</td>\n",
              "    </tr>\n",
              "    <tr>\n",
              "      <th>3</th>\n",
              "      <td>07/11/2020</td>\n",
              "      <td>11/03/1980</td>\n",
              "      <td>Full UK</td>\n",
              "      <td>17.0</td>\n",
              "      <td>Full UK</td>\n",
              "      <td>NaN</td>\n",
              "      <td>No</td>\n",
              "      <td>2</td>\n",
              "      <td>Married</td>\n",
              "      <td>6</td>\n",
              "      <td>12569</td>\n",
              "      <td>1885.35</td>\n",
              "      <td>12266.0</td>\n",
              "      <td>548</td>\n",
              "      <td>Annual</td>\n",
              "      <td>0</td>\n",
              "      <td>1282.56</td>\n",
              "      <td>1282.56</td>\n",
              "    </tr>\n",
              "    <tr>\n",
              "      <th>4</th>\n",
              "      <td>16/08/2020</td>\n",
              "      <td>17/09/1977</td>\n",
              "      <td>Full UK</td>\n",
              "      <td>25.0</td>\n",
              "      <td>Full UK</td>\n",
              "      <td>NaN</td>\n",
              "      <td>No</td>\n",
              "      <td>0</td>\n",
              "      <td>Separated</td>\n",
              "      <td>8</td>\n",
              "      <td>11395</td>\n",
              "      <td>1709.25</td>\n",
              "      <td>11117.0</td>\n",
              "      <td>393</td>\n",
              "      <td>Annual</td>\n",
              "      <td>30</td>\n",
              "      <td>1471.02</td>\n",
              "      <td>1471.02</td>\n",
              "    </tr>\n",
              "  </tbody>\n",
              "</table>\n",
              "</div>"
            ],
            "text/plain": [
              "   Quote_Date Driver1_DOB Driver1_Licence_Type  Driver1_Licence_Years   \n",
              "0  01/09/2020  16/06/1959              Full UK                   34.0  \\\n",
              "1  06/01/2020  03/09/1977              Full UK                   12.0   \n",
              "2  21/07/2020  24/03/1990              Full UK                    9.0   \n",
              "3  07/11/2020  11/03/1980              Full UK                   17.0   \n",
              "4  16/08/2020  17/09/1977              Full UK                   25.0   \n",
              "\n",
              "  Driver2_Licence_Type  Driver2_Licence_Years Driver1_Convictions   \n",
              "0                  NaN                    NaN                  No  \\\n",
              "1                  NaN                    NaN                  No   \n",
              "2                  NaN                   20.0                  No   \n",
              "3              Full UK                    NaN                  No   \n",
              "4              Full UK                    NaN                  No   \n",
              "\n",
              "   Driver1_Claims Driver1_Marital_Status  Vehicle_Age  Vehicle_Value      Tax   \n",
              "0               0                Married            4          24178  3626.70  \\\n",
              "1               2                Married           14           1744   174.40   \n",
              "2               0                Married            5          20199  3029.85   \n",
              "3               2                Married            6          12569  1885.35   \n",
              "4               0              Separated            8          11395  1709.25   \n",
              "\n",
              "   Vehicle_Annual_Mileage  Credit_Score Payment_Type  Days_to_Inception   \n",
              "0                 12849.0           240      Monthly                 11  \\\n",
              "1                  1250.0           200       Annual                  4   \n",
              "2                 21847.0           644       Annual                  0   \n",
              "3                 12266.0           548       Annual                  0   \n",
              "4                 11117.0           393       Annual                 30   \n",
              "\n",
              "   Premium  Capped_Premium  \n",
              "0   707.64          707.64  \n",
              "1  1176.96         1176.96  \n",
              "2   594.84          594.84  \n",
              "3  1282.56         1282.56  \n",
              "4  1471.02         1471.02  "
            ]
          },
          "execution_count": 6,
          "metadata": {},
          "output_type": "execute_result"
        }
      ],
      "source": [
        "# Drop Quote ID and show a few rows\n",
        "quotes.drop(columns=[\"Quote_ID\"], inplace=True)\n",
        "quotes.head()"
      ]
    },
    {
      "attachments": {},
      "cell_type": "markdown",
      "metadata": {},
      "source": [
        "Next we have Quote Date. We are going to see what is the earliest date in case very old quotes are registered. This would mean that their price is not longer relevant due to inflation."
      ]
    },
    {
      "cell_type": "code",
      "execution_count": 7,
      "metadata": {},
      "outputs": [
        {
          "data": {
            "text/plain": [
              "(2020, 2020)"
            ]
          },
          "execution_count": 7,
          "metadata": {},
          "output_type": "execute_result"
        }
      ],
      "source": [
        "# Earliest and latest year of the quotes\n",
        "pd.to_datetime(quotes[\"Quote_Date\"], dayfirst=True).min().year, pd.to_datetime(quotes[\"Quote_Date\"], dayfirst=True).max().year"
      ]
    },
    {
      "attachments": {},
      "cell_type": "markdown",
      "metadata": {},
      "source": [
        "We can see that all the quotes are from 2020 so their prices are relevant. We are also going to use this column in conjuction with `Driver1_DOB` (assumed to mean \"Driver 1 Date Of Birth\") to compute the age of the driver. We do this because age is easier to model than a date. We are going to replace the column `Driver1_DOB` by a column `Driver1_Age` that contains the age in years as an integer and we are dropping the `Quote_Date` column."
      ]
    },
    {
      "cell_type": "code",
      "execution_count": 8,
      "metadata": {},
      "outputs": [
        {
          "data": {
            "text/html": [
              "<div>\n",
              "<style scoped>\n",
              "    .dataframe tbody tr th:only-of-type {\n",
              "        vertical-align: middle;\n",
              "    }\n",
              "\n",
              "    .dataframe tbody tr th {\n",
              "        vertical-align: top;\n",
              "    }\n",
              "\n",
              "    .dataframe thead th {\n",
              "        text-align: right;\n",
              "    }\n",
              "</style>\n",
              "<table border=\"1\" class=\"dataframe\">\n",
              "  <thead>\n",
              "    <tr style=\"text-align: right;\">\n",
              "      <th></th>\n",
              "      <th>Driver1_Age</th>\n",
              "      <th>Driver1_Licence_Type</th>\n",
              "      <th>Driver1_Licence_Years</th>\n",
              "      <th>Driver2_Licence_Type</th>\n",
              "      <th>Driver2_Licence_Years</th>\n",
              "      <th>Driver1_Convictions</th>\n",
              "      <th>Driver1_Claims</th>\n",
              "      <th>Driver1_Marital_Status</th>\n",
              "      <th>Vehicle_Age</th>\n",
              "      <th>Vehicle_Value</th>\n",
              "      <th>Tax</th>\n",
              "      <th>Vehicle_Annual_Mileage</th>\n",
              "      <th>Credit_Score</th>\n",
              "      <th>Payment_Type</th>\n",
              "      <th>Days_to_Inception</th>\n",
              "      <th>Premium</th>\n",
              "      <th>Capped_Premium</th>\n",
              "    </tr>\n",
              "  </thead>\n",
              "  <tbody>\n",
              "    <tr>\n",
              "      <th>0</th>\n",
              "      <td>61</td>\n",
              "      <td>Full UK</td>\n",
              "      <td>34.0</td>\n",
              "      <td>NaN</td>\n",
              "      <td>NaN</td>\n",
              "      <td>No</td>\n",
              "      <td>0</td>\n",
              "      <td>Married</td>\n",
              "      <td>4</td>\n",
              "      <td>24178</td>\n",
              "      <td>3626.70</td>\n",
              "      <td>12849.0</td>\n",
              "      <td>240</td>\n",
              "      <td>Monthly</td>\n",
              "      <td>11</td>\n",
              "      <td>707.64</td>\n",
              "      <td>707.64</td>\n",
              "    </tr>\n",
              "    <tr>\n",
              "      <th>1</th>\n",
              "      <td>42</td>\n",
              "      <td>Full UK</td>\n",
              "      <td>12.0</td>\n",
              "      <td>NaN</td>\n",
              "      <td>NaN</td>\n",
              "      <td>No</td>\n",
              "      <td>2</td>\n",
              "      <td>Married</td>\n",
              "      <td>14</td>\n",
              "      <td>1744</td>\n",
              "      <td>174.40</td>\n",
              "      <td>1250.0</td>\n",
              "      <td>200</td>\n",
              "      <td>Annual</td>\n",
              "      <td>4</td>\n",
              "      <td>1176.96</td>\n",
              "      <td>1176.96</td>\n",
              "    </tr>\n",
              "    <tr>\n",
              "      <th>2</th>\n",
              "      <td>30</td>\n",
              "      <td>Full UK</td>\n",
              "      <td>9.0</td>\n",
              "      <td>NaN</td>\n",
              "      <td>20.0</td>\n",
              "      <td>No</td>\n",
              "      <td>0</td>\n",
              "      <td>Married</td>\n",
              "      <td>5</td>\n",
              "      <td>20199</td>\n",
              "      <td>3029.85</td>\n",
              "      <td>21847.0</td>\n",
              "      <td>644</td>\n",
              "      <td>Annual</td>\n",
              "      <td>0</td>\n",
              "      <td>594.84</td>\n",
              "      <td>594.84</td>\n",
              "    </tr>\n",
              "    <tr>\n",
              "      <th>3</th>\n",
              "      <td>40</td>\n",
              "      <td>Full UK</td>\n",
              "      <td>17.0</td>\n",
              "      <td>Full UK</td>\n",
              "      <td>NaN</td>\n",
              "      <td>No</td>\n",
              "      <td>2</td>\n",
              "      <td>Married</td>\n",
              "      <td>6</td>\n",
              "      <td>12569</td>\n",
              "      <td>1885.35</td>\n",
              "      <td>12266.0</td>\n",
              "      <td>548</td>\n",
              "      <td>Annual</td>\n",
              "      <td>0</td>\n",
              "      <td>1282.56</td>\n",
              "      <td>1282.56</td>\n",
              "    </tr>\n",
              "    <tr>\n",
              "      <th>4</th>\n",
              "      <td>42</td>\n",
              "      <td>Full UK</td>\n",
              "      <td>25.0</td>\n",
              "      <td>Full UK</td>\n",
              "      <td>NaN</td>\n",
              "      <td>No</td>\n",
              "      <td>0</td>\n",
              "      <td>Separated</td>\n",
              "      <td>8</td>\n",
              "      <td>11395</td>\n",
              "      <td>1709.25</td>\n",
              "      <td>11117.0</td>\n",
              "      <td>393</td>\n",
              "      <td>Annual</td>\n",
              "      <td>30</td>\n",
              "      <td>1471.02</td>\n",
              "      <td>1471.02</td>\n",
              "    </tr>\n",
              "  </tbody>\n",
              "</table>\n",
              "</div>"
            ],
            "text/plain": [
              "   Driver1_Age Driver1_Licence_Type  Driver1_Licence_Years   \n",
              "0           61              Full UK                   34.0  \\\n",
              "1           42              Full UK                   12.0   \n",
              "2           30              Full UK                    9.0   \n",
              "3           40              Full UK                   17.0   \n",
              "4           42              Full UK                   25.0   \n",
              "\n",
              "  Driver2_Licence_Type  Driver2_Licence_Years Driver1_Convictions   \n",
              "0                  NaN                    NaN                  No  \\\n",
              "1                  NaN                    NaN                  No   \n",
              "2                  NaN                   20.0                  No   \n",
              "3              Full UK                    NaN                  No   \n",
              "4              Full UK                    NaN                  No   \n",
              "\n",
              "   Driver1_Claims Driver1_Marital_Status  Vehicle_Age  Vehicle_Value      Tax   \n",
              "0               0                Married            4          24178  3626.70  \\\n",
              "1               2                Married           14           1744   174.40   \n",
              "2               0                Married            5          20199  3029.85   \n",
              "3               2                Married            6          12569  1885.35   \n",
              "4               0              Separated            8          11395  1709.25   \n",
              "\n",
              "   Vehicle_Annual_Mileage  Credit_Score Payment_Type  Days_to_Inception   \n",
              "0                 12849.0           240      Monthly                 11  \\\n",
              "1                  1250.0           200       Annual                  4   \n",
              "2                 21847.0           644       Annual                  0   \n",
              "3                 12266.0           548       Annual                  0   \n",
              "4                 11117.0           393       Annual                 30   \n",
              "\n",
              "   Premium  Capped_Premium  \n",
              "0   707.64          707.64  \n",
              "1  1176.96         1176.96  \n",
              "2   594.84          594.84  \n",
              "3  1282.56         1282.56  \n",
              "4  1471.02         1471.02  "
            ]
          },
          "execution_count": 8,
          "metadata": {},
          "output_type": "execute_result"
        }
      ],
      "source": [
        "driver1_age = (pd.to_datetime(quotes[\"Quote_Date\"], dayfirst=True)-pd.to_datetime(quotes[\"Driver1_DOB\"], dayfirst=True))/np.timedelta64(1,'Y')\n",
        "quotes[\"Driver1_DOB\"]=driver1_age\n",
        "quotes.rename(columns={\"Driver1_DOB\":\"Driver1_Age\"}, inplace=True)\n",
        "quotes[\"Driver1_Age\"] = quotes[\"Driver1_Age\"].apply(int)\n",
        "quotes.drop(columns=[\"Quote_Date\"], inplace=True)\n",
        "quotes.head()"
      ]
    },
    {
      "attachments": {},
      "cell_type": "markdown",
      "metadata": {},
      "source": [
        "We did not encounter any problems but we can still check if there are any missing or strange values for the age as a safety check. Ploting an histogram can also be helpful"
      ]
    },
    {
      "cell_type": "code",
      "execution_count": 9,
      "metadata": {},
      "outputs": [
        {
          "data": {
            "text/plain": [
              "(False, 18, 103)"
            ]
          },
          "execution_count": 9,
          "metadata": {},
          "output_type": "execute_result"
        }
      ],
      "source": [
        "# Check if there are missing values, and compute min and max values\n",
        "any(quotes[\"Driver1_Age\"].isna()), quotes[\"Driver1_Age\"].min(), quotes[\"Driver1_Age\"].max()"
      ]
    },
    {
      "cell_type": "code",
      "execution_count": 10,
      "metadata": {},
      "outputs": [
        {
          "data": {
            "image/png": "[encoded data removed]",
            "text/plain": [
              "<Figure size 640x480 with 1 Axes>"
            ]
          },
          "metadata": {},
          "output_type": "display_data"
        }
      ],
      "source": [
        "#Histogram of the frequency of the ages\n",
        "quotes[\"Driver1_Age\"].plot.hist(bins=20)\n",
        "plt.title(\"Driver1 Age distribution\")\n",
        "plt.show()"
      ]
    },
    {
      "attachments": {},
      "cell_type": "markdown",
      "metadata": {},
      "source": [
        "The values are believable and the distribution makes sense, so no further action seems to be required. We move on to the next column, `Driver1_Licence_Type`. This is a categorical variable so we are going to explore its values."
      ]
    },
    {
      "cell_type": "code",
      "execution_count": 11,
      "metadata": {},
      "outputs": [
        {
          "data": {
            "text/plain": [
              "array(['Full UK', 'Automatic', 'Provisional UK', 'Full EU/EEC'],\n",
              "      dtype=object)"
            ]
          },
          "execution_count": 11,
          "metadata": {},
          "output_type": "execute_result"
        }
      ],
      "source": [
        "# Possible values of the Driver 1 licence type\n",
        "quotes[\"Driver1_Licence_Type\"].unique()"
      ]
    },
    {
      "attachments": {},
      "cell_type": "markdown",
      "metadata": {},
      "source": [
        "There are no missing values and all the possible values make sense so we continue with `Driver1_Licence_Years`. Let us look for missing values."
      ]
    },
    {
      "cell_type": "code",
      "execution_count": 12,
      "metadata": {},
      "outputs": [
        {
          "data": {
            "text/plain": [
              "(False,)"
            ]
          },
          "execution_count": 12,
          "metadata": {},
          "output_type": "execute_result"
        }
      ],
      "source": [
        "any(quotes[\"Driver1_Licence_Years\"].isna())"
      ]
    },
    {
      "attachments": {},
      "cell_type": "markdown",
      "metadata": {},
      "source": [
        "There are no missing values, let us have a look at the distribution."
      ]
    },
    {
      "cell_type": "code",
      "execution_count": 13,
      "metadata": {},
      "outputs": [
        {
          "data": {
            "text/plain": [
              "(0.0, 64.0)"
            ]
          },
          "execution_count": 13,
          "metadata": {},
          "output_type": "execute_result"
        }
      ],
      "source": [
        "# Minimum and maximum\n",
        "quotes[\"Driver1_Licence_Years\"].min(), quotes[\"Driver1_Licence_Years\"].max()"
      ]
    },
    {
      "cell_type": "code",
      "execution_count": 14,
      "metadata": {},
      "outputs": [
        {
          "data": {
            "image/png": "[encoded data removed]",
            "text/plain": [
              "<Figure size 640x480 with 1 Axes>"
            ]
          },
          "metadata": {},
          "output_type": "display_data"
        }
      ],
      "source": [
        "# Histogram of frequencies\n",
        "quotes[\"Driver1_Licence_Years\"].plot.hist()\n",
        "plt.title(\"Driver1 Licence years distribution\")\n",
        "plt.show()"
      ]
    },
    {
      "attachments": {},
      "cell_type": "markdown",
      "metadata": {},
      "source": [
        "Everything looks good. However, it is likely that this variable is highly correlated with age. Let us check that."
      ]
    },
    {
      "cell_type": "code",
      "execution_count": 15,
      "metadata": {},
      "outputs": [
        {
          "data": {
            "text/plain": [
              "0.688814004390955"
            ]
          },
          "execution_count": 15,
          "metadata": {},
          "output_type": "execute_result"
        }
      ],
      "source": [
        "# Correlation coefficient between age and licence years\n",
        "quotes[\"Driver1_Age\"].corr(quotes[\"Driver1_Licence_Years\"])"
      ]
    },
    {
      "attachments": {},
      "cell_type": "markdown",
      "metadata": {},
      "source": [
        "We can see that the correlation is indeed relatively high. In order to have less correlated variables we are going to replace age by a new variable `Driver1_Age_Start_Licence` that represents the age at which the driver got its licence."
      ]
    },
    {
      "cell_type": "code",
      "execution_count": 16,
      "metadata": {},
      "outputs": [
        {
          "data": {
            "text/html": [
              "<div>\n",
              "<style scoped>\n",
              "    .dataframe tbody tr th:only-of-type {\n",
              "        vertical-align: middle;\n",
              "    }\n",
              "\n",
              "    .dataframe tbody tr th {\n",
              "        vertical-align: top;\n",
              "    }\n",
              "\n",
              "    .dataframe thead th {\n",
              "        text-align: right;\n",
              "    }\n",
              "</style>\n",
              "<table border=\"1\" class=\"dataframe\">\n",
              "  <thead>\n",
              "    <tr style=\"text-align: right;\">\n",
              "      <th></th>\n",
              "      <th>Driver1_Age_Start_Licence</th>\n",
              "      <th>Driver1_Licence_Type</th>\n",
              "      <th>Driver1_Licence_Years</th>\n",
              "      <th>Driver2_Licence_Type</th>\n",
              "      <th>Driver2_Licence_Years</th>\n",
              "      <th>Driver1_Convictions</th>\n",
              "      <th>Driver1_Claims</th>\n",
              "      <th>Driver1_Marital_Status</th>\n",
              "      <th>Vehicle_Age</th>\n",
              "      <th>Vehicle_Value</th>\n",
              "      <th>Tax</th>\n",
              "      <th>Vehicle_Annual_Mileage</th>\n",
              "      <th>Credit_Score</th>\n",
              "      <th>Payment_Type</th>\n",
              "      <th>Days_to_Inception</th>\n",
              "      <th>Premium</th>\n",
              "      <th>Capped_Premium</th>\n",
              "    </tr>\n",
              "  </thead>\n",
              "  <tbody>\n",
              "    <tr>\n",
              "      <th>0</th>\n",
              "      <td>27.0</td>\n",
              "      <td>Full UK</td>\n",
              "      <td>34.0</td>\n",
              "      <td>NaN</td>\n",
              "      <td>NaN</td>\n",
              "      <td>No</td>\n",
              "      <td>0</td>\n",
              "      <td>Married</td>\n",
              "      <td>4</td>\n",
              "      <td>24178</td>\n",
              "      <td>3626.70</td>\n",
              "      <td>12849.0</td>\n",
              "      <td>240</td>\n",
              "      <td>Monthly</td>\n",
              "      <td>11</td>\n",
              "      <td>707.64</td>\n",
              "      <td>707.64</td>\n",
              "    </tr>\n",
              "    <tr>\n",
              "      <th>1</th>\n",
              "      <td>30.0</td>\n",
              "      <td>Full UK</td>\n",
              "      <td>12.0</td>\n",
              "      <td>NaN</td>\n",
              "      <td>NaN</td>\n",
              "      <td>No</td>\n",
              "      <td>2</td>\n",
              "      <td>Married</td>\n",
              "      <td>14</td>\n",
              "      <td>1744</td>\n",
              "      <td>174.40</td>\n",
              "      <td>1250.0</td>\n",
              "      <td>200</td>\n",
              "      <td>Annual</td>\n",
              "      <td>4</td>\n",
              "      <td>1176.96</td>\n",
              "      <td>1176.96</td>\n",
              "    </tr>\n",
              "    <tr>\n",
              "      <th>2</th>\n",
              "      <td>21.0</td>\n",
              "      <td>Full UK</td>\n",
              "      <td>9.0</td>\n",
              "      <td>NaN</td>\n",
              "      <td>20.0</td>\n",
              "      <td>No</td>\n",
              "      <td>0</td>\n",
              "      <td>Married</td>\n",
              "      <td>5</td>\n",
              "      <td>20199</td>\n",
              "      <td>3029.85</td>\n",
              "      <td>21847.0</td>\n",
              "      <td>644</td>\n",
              "      <td>Annual</td>\n",
              "      <td>0</td>\n",
              "      <td>594.84</td>\n",
              "      <td>594.84</td>\n",
              "    </tr>\n",
              "    <tr>\n",
              "      <th>3</th>\n",
              "      <td>23.0</td>\n",
              "      <td>Full UK</td>\n",
              "      <td>17.0</td>\n",
              "      <td>Full UK</td>\n",
              "      <td>NaN</td>\n",
              "      <td>No</td>\n",
              "      <td>2</td>\n",
              "      <td>Married</td>\n",
              "      <td>6</td>\n",
              "      <td>12569</td>\n",
              "      <td>1885.35</td>\n",
              "      <td>12266.0</td>\n",
              "      <td>548</td>\n",
              "      <td>Annual</td>\n",
              "      <td>0</td>\n",
              "      <td>1282.56</td>\n",
              "      <td>1282.56</td>\n",
              "    </tr>\n",
              "    <tr>\n",
              "      <th>4</th>\n",
              "      <td>17.0</td>\n",
              "      <td>Full UK</td>\n",
              "      <td>25.0</td>\n",
              "      <td>Full UK</td>\n",
              "      <td>NaN</td>\n",
              "      <td>No</td>\n",
              "      <td>0</td>\n",
              "      <td>Separated</td>\n",
              "      <td>8</td>\n",
              "      <td>11395</td>\n",
              "      <td>1709.25</td>\n",
              "      <td>11117.0</td>\n",
              "      <td>393</td>\n",
              "      <td>Annual</td>\n",
              "      <td>30</td>\n",
              "      <td>1471.02</td>\n",
              "      <td>1471.02</td>\n",
              "    </tr>\n",
              "  </tbody>\n",
              "</table>\n",
              "</div>"
            ],
            "text/plain": [
              "   Driver1_Age_Start_Licence Driver1_Licence_Type  Driver1_Licence_Years   \n",
              "0                       27.0              Full UK                   34.0  \\\n",
              "1                       30.0              Full UK                   12.0   \n",
              "2                       21.0              Full UK                    9.0   \n",
              "3                       23.0              Full UK                   17.0   \n",
              "4                       17.0              Full UK                   25.0   \n",
              "\n",
              "  Driver2_Licence_Type  Driver2_Licence_Years Driver1_Convictions   \n",
              "0                  NaN                    NaN                  No  \\\n",
              "1                  NaN                    NaN                  No   \n",
              "2                  NaN                   20.0                  No   \n",
              "3              Full UK                    NaN                  No   \n",
              "4              Full UK                    NaN                  No   \n",
              "\n",
              "   Driver1_Claims Driver1_Marital_Status  Vehicle_Age  Vehicle_Value      Tax   \n",
              "0               0                Married            4          24178  3626.70  \\\n",
              "1               2                Married           14           1744   174.40   \n",
              "2               0                Married            5          20199  3029.85   \n",
              "3               2                Married            6          12569  1885.35   \n",
              "4               0              Separated            8          11395  1709.25   \n",
              "\n",
              "   Vehicle_Annual_Mileage  Credit_Score Payment_Type  Days_to_Inception   \n",
              "0                 12849.0           240      Monthly                 11  \\\n",
              "1                  1250.0           200       Annual                  4   \n",
              "2                 21847.0           644       Annual                  0   \n",
              "3                 12266.0           548       Annual                  0   \n",
              "4                 11117.0           393       Annual                 30   \n",
              "\n",
              "   Premium  Capped_Premium  \n",
              "0   707.64          707.64  \n",
              "1  1176.96         1176.96  \n",
              "2   594.84          594.84  \n",
              "3  1282.56         1282.56  \n",
              "4  1471.02         1471.02  "
            ]
          },
          "execution_count": 16,
          "metadata": {},
          "output_type": "execute_result"
        }
      ],
      "source": [
        "quotes[\"Driver1_Age\"] -= quotes[\"Driver1_Licence_Years\"]\n",
        "quotes.rename(columns={\"Driver1_Age\":\"Driver1_Age_Start_Licence\"}, inplace=True)\n",
        "quotes.head()"
      ]
    },
    {
      "attachments": {},
      "cell_type": "markdown",
      "metadata": {},
      "source": [
        "We can see that now the correlation is significantly lower now."
      ]
    },
    {
      "cell_type": "code",
      "execution_count": 17,
      "metadata": {},
      "outputs": [
        {
          "data": {
            "text/plain": [
              "-0.19647248783827712"
            ]
          },
          "execution_count": 17,
          "metadata": {},
          "output_type": "execute_result"
        }
      ],
      "source": [
        "# New correlation coefficient\n",
        "quotes[\"Driver1_Age_Start_Licence\"].corr(quotes[\"Driver1_Licence_Years\"])"
      ]
    },
    {
      "attachments": {},
      "cell_type": "markdown",
      "metadata": {},
      "source": [
        "Next we get some information about Driver 2. We are leaving this for later since this part will have a particular relevance in our model. So for now, let us have a look at `Driver1_Convictions`. Let us check its values."
      ]
    },
    {
      "cell_type": "code",
      "execution_count": 18,
      "metadata": {},
      "outputs": [
        {
          "data": {
            "text/plain": [
              "array(['No', 'Yes', '-9999'], dtype=object)"
            ]
          },
          "execution_count": 18,
          "metadata": {},
          "output_type": "execute_result"
        }
      ],
      "source": [
        "quotes[\"Driver1_Convictions\"].unique()"
      ]
    },
    {
      "attachments": {},
      "cell_type": "markdown",
      "metadata": {},
      "source": [
        "We get a strange value of `-9999`. Let us compute how many entries have this value."
      ]
    },
    {
      "cell_type": "code",
      "execution_count": 19,
      "metadata": {},
      "outputs": [
        {
          "data": {
            "text/plain": [
              "1140"
            ]
          },
          "execution_count": 19,
          "metadata": {},
          "output_type": "execute_result"
        }
      ],
      "source": [
        "quotes[quotes[\"Driver1_Convictions\"]=='-9999'][\"Driver1_Convictions\"].count()"
      ]
    },
    {
      "attachments": {},
      "cell_type": "markdown",
      "metadata": {},
      "source": [
        "The amount is about a 2% of the total number of rows. Dropping it would not be too detrimental. However, since we believe in \"innocent until proven guilty\", we are going to assume that this value should be replaced by \"No\" in order to keep most of the data. We also transform the the variable into a boolean one by using a dummy variable."
      ]
    },
    {
      "cell_type": "code",
      "execution_count": 20,
      "metadata": {},
      "outputs": [
        {
          "data": {
            "text/html": [
              "<div>\n",
              "<style scoped>\n",
              "    .dataframe tbody tr th:only-of-type {\n",
              "        vertical-align: middle;\n",
              "    }\n",
              "\n",
              "    .dataframe tbody tr th {\n",
              "        vertical-align: top;\n",
              "    }\n",
              "\n",
              "    .dataframe thead th {\n",
              "        text-align: right;\n",
              "    }\n",
              "</style>\n",
              "<table border=\"1\" class=\"dataframe\">\n",
              "  <thead>\n",
              "    <tr style=\"text-align: right;\">\n",
              "      <th></th>\n",
              "      <th>Driver1_Age_Start_Licence</th>\n",
              "      <th>Driver1_Licence_Type</th>\n",
              "      <th>Driver1_Licence_Years</th>\n",
              "      <th>Driver2_Licence_Type</th>\n",
              "      <th>Driver2_Licence_Years</th>\n",
              "      <th>Driver1_Convictions</th>\n",
              "      <th>Driver1_Claims</th>\n",
              "      <th>Driver1_Marital_Status</th>\n",
              "      <th>Vehicle_Age</th>\n",
              "      <th>Vehicle_Value</th>\n",
              "      <th>Tax</th>\n",
              "      <th>Vehicle_Annual_Mileage</th>\n",
              "      <th>Credit_Score</th>\n",
              "      <th>Payment_Type</th>\n",
              "      <th>Days_to_Inception</th>\n",
              "      <th>Premium</th>\n",
              "      <th>Capped_Premium</th>\n",
              "    </tr>\n",
              "  </thead>\n",
              "  <tbody>\n",
              "    <tr>\n",
              "      <th>0</th>\n",
              "      <td>27.0</td>\n",
              "      <td>Full UK</td>\n",
              "      <td>34.0</td>\n",
              "      <td>NaN</td>\n",
              "      <td>NaN</td>\n",
              "      <td>False</td>\n",
              "      <td>0</td>\n",
              "      <td>Married</td>\n",
              "      <td>4</td>\n",
              "      <td>24178</td>\n",
              "      <td>3626.70</td>\n",
              "      <td>12849.0</td>\n",
              "      <td>240</td>\n",
              "      <td>Monthly</td>\n",
              "      <td>11</td>\n",
              "      <td>707.64</td>\n",
              "      <td>707.64</td>\n",
              "    </tr>\n",
              "    <tr>\n",
              "      <th>1</th>\n",
              "      <td>30.0</td>\n",
              "      <td>Full UK</td>\n",
              "      <td>12.0</td>\n",
              "      <td>NaN</td>\n",
              "      <td>NaN</td>\n",
              "      <td>False</td>\n",
              "      <td>2</td>\n",
              "      <td>Married</td>\n",
              "      <td>14</td>\n",
              "      <td>1744</td>\n",
              "      <td>174.40</td>\n",
              "      <td>1250.0</td>\n",
              "      <td>200</td>\n",
              "      <td>Annual</td>\n",
              "      <td>4</td>\n",
              "      <td>1176.96</td>\n",
              "      <td>1176.96</td>\n",
              "    </tr>\n",
              "    <tr>\n",
              "      <th>2</th>\n",
              "      <td>21.0</td>\n",
              "      <td>Full UK</td>\n",
              "      <td>9.0</td>\n",
              "      <td>NaN</td>\n",
              "      <td>20.0</td>\n",
              "      <td>False</td>\n",
              "      <td>0</td>\n",
              "      <td>Married</td>\n",
              "      <td>5</td>\n",
              "      <td>20199</td>\n",
              "      <td>3029.85</td>\n",
              "      <td>21847.0</td>\n",
              "      <td>644</td>\n",
              "      <td>Annual</td>\n",
              "      <td>0</td>\n",
              "      <td>594.84</td>\n",
              "      <td>594.84</td>\n",
              "    </tr>\n",
              "    <tr>\n",
              "      <th>3</th>\n",
              "      <td>23.0</td>\n",
              "      <td>Full UK</td>\n",
              "      <td>17.0</td>\n",
              "      <td>Full UK</td>\n",
              "      <td>NaN</td>\n",
              "      <td>False</td>\n",
              "      <td>2</td>\n",
              "      <td>Married</td>\n",
              "      <td>6</td>\n",
              "      <td>12569</td>\n",
              "      <td>1885.35</td>\n",
              "      <td>12266.0</td>\n",
              "      <td>548</td>\n",
              "      <td>Annual</td>\n",
              "      <td>0</td>\n",
              "      <td>1282.56</td>\n",
              "      <td>1282.56</td>\n",
              "    </tr>\n",
              "    <tr>\n",
              "      <th>4</th>\n",
              "      <td>17.0</td>\n",
              "      <td>Full UK</td>\n",
              "      <td>25.0</td>\n",
              "      <td>Full UK</td>\n",
              "      <td>NaN</td>\n",
              "      <td>False</td>\n",
              "      <td>0</td>\n",
              "      <td>Separated</td>\n",
              "      <td>8</td>\n",
              "      <td>11395</td>\n",
              "      <td>1709.25</td>\n",
              "      <td>11117.0</td>\n",
              "      <td>393</td>\n",
              "      <td>Annual</td>\n",
              "      <td>30</td>\n",
              "      <td>1471.02</td>\n",
              "      <td>1471.02</td>\n",
              "    </tr>\n",
              "  </tbody>\n",
              "</table>\n",
              "</div>"
            ],
            "text/plain": [
              "   Driver1_Age_Start_Licence Driver1_Licence_Type  Driver1_Licence_Years   \n",
              "0                       27.0              Full UK                   34.0  \\\n",
              "1                       30.0              Full UK                   12.0   \n",
              "2                       21.0              Full UK                    9.0   \n",
              "3                       23.0              Full UK                   17.0   \n",
              "4                       17.0              Full UK                   25.0   \n",
              "\n",
              "  Driver2_Licence_Type  Driver2_Licence_Years  Driver1_Convictions   \n",
              "0                  NaN                    NaN                False  \\\n",
              "1                  NaN                    NaN                False   \n",
              "2                  NaN                   20.0                False   \n",
              "3              Full UK                    NaN                False   \n",
              "4              Full UK                    NaN                False   \n",
              "\n",
              "   Driver1_Claims Driver1_Marital_Status  Vehicle_Age  Vehicle_Value      Tax   \n",
              "0               0                Married            4          24178  3626.70  \\\n",
              "1               2                Married           14           1744   174.40   \n",
              "2               0                Married            5          20199  3029.85   \n",
              "3               2                Married            6          12569  1885.35   \n",
              "4               0              Separated            8          11395  1709.25   \n",
              "\n",
              "   Vehicle_Annual_Mileage  Credit_Score Payment_Type  Days_to_Inception   \n",
              "0                 12849.0           240      Monthly                 11  \\\n",
              "1                  1250.0           200       Annual                  4   \n",
              "2                 21847.0           644       Annual                  0   \n",
              "3                 12266.0           548       Annual                  0   \n",
              "4                 11117.0           393       Annual                 30   \n",
              "\n",
              "   Premium  Capped_Premium  \n",
              "0   707.64          707.64  \n",
              "1  1176.96         1176.96  \n",
              "2   594.84          594.84  \n",
              "3  1282.56         1282.56  \n",
              "4  1471.02         1471.02  "
            ]
          },
          "execution_count": 20,
          "metadata": {},
          "output_type": "execute_result"
        }
      ],
      "source": [
        "# Replace -9999 by No\n",
        "quotes[\"Driver1_Convictions\"].replace('-9999','No', inplace=True)\n",
        "\n",
        "# Turn Yes to 1 and No to 0\n",
        "quotes[\"Driver1_Convictions\"]=pd.get_dummies(quotes[\"Driver1_Convictions\"], drop_first=True)\n",
        "\n",
        "quotes.head()"
      ]
    },
    {
      "attachments": {},
      "cell_type": "markdown",
      "metadata": {},
      "source": [
        "The next variable is `Driver1_Claims`. Let us simply have a look at the distribution and missing values."
      ]
    },
    {
      "cell_type": "code",
      "execution_count": 21,
      "metadata": {},
      "outputs": [
        {
          "data": {
            "text/plain": [
              "(False, 0, 6)"
            ]
          },
          "execution_count": 21,
          "metadata": {},
          "output_type": "execute_result"
        }
      ],
      "source": [
        "# No missing values, reasonable range\n",
        "any(quotes[\"Driver1_Claims\"].isna()), quotes[\"Driver1_Claims\"].min(), quotes[\"Driver1_Claims\"].max()"
      ]
    },
    {
      "cell_type": "code",
      "execution_count": 22,
      "metadata": {},
      "outputs": [
        {
          "data": {
            "image/png": "[encoded data removed]",
            "text/plain": [
              "<Figure size 640x480 with 1 Axes>"
            ]
          },
          "metadata": {},
          "output_type": "display_data"
        }
      ],
      "source": [
        "quotes[\"Driver1_Claims\"].plot.hist(bins=7)\n",
        "plt.title(\"Driver1 Claims distribution\")\n",
        "plt.show()"
      ]
    },
    {
      "attachments": {},
      "cell_type": "markdown",
      "metadata": {},
      "source": [
        "Everything looks alright. The next variable is `Driver1_Marital_Status`. It is tempting to drop this one since it does not seem to be so related to the driver abilities or to the vehicle. However, let us keep an open mind and let us see later what the importance of this variable is in the model. Therefore, let us explore its possible values."
      ]
    },
    {
      "cell_type": "code",
      "execution_count": 23,
      "metadata": {},
      "outputs": [
        {
          "data": {
            "text/plain": [
              "array(['Married', 'Separated', 'Widowed', 'Single', 'Other', 'Divorced',\n",
              "       'Common Law', 'Civil Partnership', 'single', 'married'],\n",
              "      dtype=object)"
            ]
          },
          "execution_count": 23,
          "metadata": {},
          "output_type": "execute_result"
        }
      ],
      "source": [
        "quotes[\"Driver1_Marital_Status\"].unique()"
      ]
    },
    {
      "attachments": {},
      "cell_type": "markdown",
      "metadata": {},
      "source": [
        "We see that there are some repeated values with different format, so we are just going to reformat them to Title style."
      ]
    },
    {
      "cell_type": "code",
      "execution_count": 24,
      "metadata": {},
      "outputs": [
        {
          "data": {
            "text/plain": [
              "array(['Married', 'Separated', 'Widowed', 'Single', 'Other', 'Divorced',\n",
              "       'Common Law', 'Civil Partnership'], dtype=object)"
            ]
          },
          "execution_count": 24,
          "metadata": {},
          "output_type": "execute_result"
        }
      ],
      "source": [
        "quotes[\"Driver1_Marital_Status\"] = quotes[\"Driver1_Marital_Status\"].apply(lambda x: x.title())\n",
        "quotes[\"Driver1_Marital_Status\"].unique()"
      ]
    },
    {
      "attachments": {},
      "cell_type": "markdown",
      "metadata": {},
      "source": [
        "Now we get a few columns about the vehicle. Let us explore them one by one. First, `Vehicle_Age`. As before, let us look for missing or incorrect values."
      ]
    },
    {
      "cell_type": "code",
      "execution_count": 25,
      "metadata": {},
      "outputs": [
        {
          "data": {
            "text/plain": [
              "(False, -9999, 75)"
            ]
          },
          "execution_count": 25,
          "metadata": {},
          "output_type": "execute_result"
        }
      ],
      "source": [
        "any(quotes[\"Vehicle_Age\"].isna()), quotes[\"Vehicle_Age\"].min(), quotes[\"Vehicle_Age\"].max()"
      ]
    },
    {
      "attachments": {},
      "cell_type": "markdown",
      "metadata": {},
      "source": [
        "We see that there is an incorrect value of -9999. Since there could potentially be other negative values, let us count how many there are."
      ]
    },
    {
      "cell_type": "code",
      "execution_count": 26,
      "metadata": {},
      "outputs": [
        {
          "data": {
            "text/plain": [
              "85"
            ]
          },
          "execution_count": 26,
          "metadata": {},
          "output_type": "execute_result"
        }
      ],
      "source": [
        "quotes[quotes[\"Vehicle_Age\"] < 0 ][\"Vehicle_Age\"].count()"
      ]
    },
    {
      "attachments": {},
      "cell_type": "markdown",
      "metadata": {},
      "source": [
        "Since there is a very small amount so we can either drop them or impute them. Since there is actually no reasonable criteria for imputation other than just filling with the average, our decision is to just drop them."
      ]
    },
    {
      "cell_type": "code",
      "execution_count": 27,
      "metadata": {},
      "outputs": [],
      "source": [
        "quotes = quotes[quotes[\"Vehicle_Age\"] >= 0 ]"
      ]
    },
    {
      "attachments": {},
      "cell_type": "markdown",
      "metadata": {},
      "source": [
        "Now let us plot the distribution of the vehicle ages."
      ]
    },
    {
      "cell_type": "code",
      "execution_count": 28,
      "metadata": {},
      "outputs": [
        {
          "data": {
            "image/png": "[encoded data removed]",
            "text/plain": [
              "<Figure size 640x480 with 1 Axes>"
            ]
          },
          "metadata": {},
          "output_type": "display_data"
        }
      ],
      "source": [
        "quotes[\"Vehicle_Age\"].plot.hist()\n",
        "plt.title(\"Vehicle Age distribution\")\n",
        "plt.show()"
      ]
    },
    {
      "attachments": {},
      "cell_type": "markdown",
      "metadata": {},
      "source": [
        "There seems to be a gap. This is confirmed by looking at the unique values."
      ]
    },
    {
      "cell_type": "code",
      "execution_count": 29,
      "metadata": {},
      "outputs": [
        {
          "data": {
            "text/plain": [
              "[36, 75]"
            ]
          },
          "execution_count": 29,
          "metadata": {},
          "output_type": "execute_result"
        }
      ],
      "source": [
        "# Last two values of age\n",
        "sorted(quotes[\"Vehicle_Age\"].unique())[-2:]"
      ]
    },
    {
      "attachments": {},
      "cell_type": "markdown",
      "metadata": {},
      "source": [
        "We can see a jump between 36 and 75. This suggests that 75 might be a wrong age value. The histogram shows that there are very few vehicles with this age, so just in case we are dropping them."
      ]
    },
    {
      "cell_type": "code",
      "execution_count": 30,
      "metadata": {},
      "outputs": [],
      "source": [
        "quotes = quotes[quotes[\"Vehicle_Age\"] < 75 ]"
      ]
    },
    {
      "attachments": {},
      "cell_type": "markdown",
      "metadata": {},
      "source": [
        "We do a similar analysis for `Vehicle_Value`."
      ]
    },
    {
      "cell_type": "code",
      "execution_count": 31,
      "metadata": {},
      "outputs": [
        {
          "data": {
            "image/png": "[encoded data removed]",
            "text/plain": [
              "<Figure size 640x480 with 1 Axes>"
            ]
          },
          "metadata": {},
          "output_type": "display_data"
        }
      ],
      "source": [
        "quotes[\"Vehicle_Value\"].plot.hist()\n",
        "plt.title(\"Vehicle value distribution\")\n",
        "plt.show()"
      ]
    },
    {
      "attachments": {},
      "cell_type": "markdown",
      "metadata": {},
      "source": [
        "The histogram shows negative values again and we drop them."
      ]
    },
    {
      "cell_type": "code",
      "execution_count": 32,
      "metadata": {},
      "outputs": [],
      "source": [
        "quotes = quotes[quotes[\"Vehicle_Value\"] >= 0 ]"
      ]
    },
    {
      "attachments": {},
      "cell_type": "markdown",
      "metadata": {},
      "source": [
        "Next there is a tax column. Usually taxes are computed as a function of the vehicle value, among other variables, so we expect a high correlation between tax and age. "
      ]
    },
    {
      "cell_type": "code",
      "execution_count": 33,
      "metadata": {},
      "outputs": [
        {
          "data": {
            "text/plain": [
              "0.9688654451195808"
            ]
          },
          "execution_count": 33,
          "metadata": {},
          "output_type": "execute_result"
        }
      ],
      "source": [
        "quotes[\"Vehicle_Value\"].corr(quotes[\"Tax\"])"
      ]
    },
    {
      "attachments": {},
      "cell_type": "markdown",
      "metadata": {},
      "source": [
        "The correlation is very high, so the Tax variable is redundant and we should drop it."
      ]
    },
    {
      "cell_type": "code",
      "execution_count": 34,
      "metadata": {},
      "outputs": [
        {
          "data": {
            "text/html": [
              "<div>\n",
              "<style scoped>\n",
              "    .dataframe tbody tr th:only-of-type {\n",
              "        vertical-align: middle;\n",
              "    }\n",
              "\n",
              "    .dataframe tbody tr th {\n",
              "        vertical-align: top;\n",
              "    }\n",
              "\n",
              "    .dataframe thead th {\n",
              "        text-align: right;\n",
              "    }\n",
              "</style>\n",
              "<table border=\"1\" class=\"dataframe\">\n",
              "  <thead>\n",
              "    <tr style=\"text-align: right;\">\n",
              "      <th></th>\n",
              "      <th>Driver1_Age_Start_Licence</th>\n",
              "      <th>Driver1_Licence_Type</th>\n",
              "      <th>Driver1_Licence_Years</th>\n",
              "      <th>Driver2_Licence_Type</th>\n",
              "      <th>Driver2_Licence_Years</th>\n",
              "      <th>Driver1_Convictions</th>\n",
              "      <th>Driver1_Claims</th>\n",
              "      <th>Driver1_Marital_Status</th>\n",
              "      <th>Vehicle_Age</th>\n",
              "      <th>Vehicle_Value</th>\n",
              "      <th>Vehicle_Annual_Mileage</th>\n",
              "      <th>Credit_Score</th>\n",
              "      <th>Payment_Type</th>\n",
              "      <th>Days_to_Inception</th>\n",
              "      <th>Premium</th>\n",
              "      <th>Capped_Premium</th>\n",
              "    </tr>\n",
              "  </thead>\n",
              "  <tbody>\n",
              "    <tr>\n",
              "      <th>0</th>\n",
              "      <td>27.0</td>\n",
              "      <td>Full UK</td>\n",
              "      <td>34.0</td>\n",
              "      <td>NaN</td>\n",
              "      <td>NaN</td>\n",
              "      <td>False</td>\n",
              "      <td>0</td>\n",
              "      <td>Married</td>\n",
              "      <td>4</td>\n",
              "      <td>24178</td>\n",
              "      <td>12849.0</td>\n",
              "      <td>240</td>\n",
              "      <td>Monthly</td>\n",
              "      <td>11</td>\n",
              "      <td>707.64</td>\n",
              "      <td>707.64</td>\n",
              "    </tr>\n",
              "    <tr>\n",
              "      <th>1</th>\n",
              "      <td>30.0</td>\n",
              "      <td>Full UK</td>\n",
              "      <td>12.0</td>\n",
              "      <td>NaN</td>\n",
              "      <td>NaN</td>\n",
              "      <td>False</td>\n",
              "      <td>2</td>\n",
              "      <td>Married</td>\n",
              "      <td>14</td>\n",
              "      <td>1744</td>\n",
              "      <td>1250.0</td>\n",
              "      <td>200</td>\n",
              "      <td>Annual</td>\n",
              "      <td>4</td>\n",
              "      <td>1176.96</td>\n",
              "      <td>1176.96</td>\n",
              "    </tr>\n",
              "    <tr>\n",
              "      <th>2</th>\n",
              "      <td>21.0</td>\n",
              "      <td>Full UK</td>\n",
              "      <td>9.0</td>\n",
              "      <td>NaN</td>\n",
              "      <td>20.0</td>\n",
              "      <td>False</td>\n",
              "      <td>0</td>\n",
              "      <td>Married</td>\n",
              "      <td>5</td>\n",
              "      <td>20199</td>\n",
              "      <td>21847.0</td>\n",
              "      <td>644</td>\n",
              "      <td>Annual</td>\n",
              "      <td>0</td>\n",
              "      <td>594.84</td>\n",
              "      <td>594.84</td>\n",
              "    </tr>\n",
              "    <tr>\n",
              "      <th>3</th>\n",
              "      <td>23.0</td>\n",
              "      <td>Full UK</td>\n",
              "      <td>17.0</td>\n",
              "      <td>Full UK</td>\n",
              "      <td>NaN</td>\n",
              "      <td>False</td>\n",
              "      <td>2</td>\n",
              "      <td>Married</td>\n",
              "      <td>6</td>\n",
              "      <td>12569</td>\n",
              "      <td>12266.0</td>\n",
              "      <td>548</td>\n",
              "      <td>Annual</td>\n",
              "      <td>0</td>\n",
              "      <td>1282.56</td>\n",
              "      <td>1282.56</td>\n",
              "    </tr>\n",
              "    <tr>\n",
              "      <th>4</th>\n",
              "      <td>17.0</td>\n",
              "      <td>Full UK</td>\n",
              "      <td>25.0</td>\n",
              "      <td>Full UK</td>\n",
              "      <td>NaN</td>\n",
              "      <td>False</td>\n",
              "      <td>0</td>\n",
              "      <td>Separated</td>\n",
              "      <td>8</td>\n",
              "      <td>11395</td>\n",
              "      <td>11117.0</td>\n",
              "      <td>393</td>\n",
              "      <td>Annual</td>\n",
              "      <td>30</td>\n",
              "      <td>1471.02</td>\n",
              "      <td>1471.02</td>\n",
              "    </tr>\n",
              "  </tbody>\n",
              "</table>\n",
              "</div>"
            ],
            "text/plain": [
              "   Driver1_Age_Start_Licence Driver1_Licence_Type  Driver1_Licence_Years   \n",
              "0                       27.0              Full UK                   34.0  \\\n",
              "1                       30.0              Full UK                   12.0   \n",
              "2                       21.0              Full UK                    9.0   \n",
              "3                       23.0              Full UK                   17.0   \n",
              "4                       17.0              Full UK                   25.0   \n",
              "\n",
              "  Driver2_Licence_Type  Driver2_Licence_Years  Driver1_Convictions   \n",
              "0                  NaN                    NaN                False  \\\n",
              "1                  NaN                    NaN                False   \n",
              "2                  NaN                   20.0                False   \n",
              "3              Full UK                    NaN                False   \n",
              "4              Full UK                    NaN                False   \n",
              "\n",
              "   Driver1_Claims Driver1_Marital_Status  Vehicle_Age  Vehicle_Value   \n",
              "0               0                Married            4          24178  \\\n",
              "1               2                Married           14           1744   \n",
              "2               0                Married            5          20199   \n",
              "3               2                Married            6          12569   \n",
              "4               0              Separated            8          11395   \n",
              "\n",
              "   Vehicle_Annual_Mileage  Credit_Score Payment_Type  Days_to_Inception   \n",
              "0                 12849.0           240      Monthly                 11  \\\n",
              "1                  1250.0           200       Annual                  4   \n",
              "2                 21847.0           644       Annual                  0   \n",
              "3                 12266.0           548       Annual                  0   \n",
              "4                 11117.0           393       Annual                 30   \n",
              "\n",
              "   Premium  Capped_Premium  \n",
              "0   707.64          707.64  \n",
              "1  1176.96         1176.96  \n",
              "2   594.84          594.84  \n",
              "3  1282.56         1282.56  \n",
              "4  1471.02         1471.02  "
            ]
          },
          "execution_count": 34,
          "metadata": {},
          "output_type": "execute_result"
        }
      ],
      "source": [
        "quotes.drop(columns=[\"Tax\"], inplace=True)\n",
        "quotes.head()"
      ]
    },
    {
      "attachments": {},
      "cell_type": "markdown",
      "metadata": {},
      "source": [
        "Another variable that could be highly correlated with `Vehicle_Value` is the previously analysed `Vehicle_Age`. "
      ]
    },
    {
      "cell_type": "code",
      "execution_count": 35,
      "metadata": {},
      "outputs": [
        {
          "data": {
            "text/plain": [
              "-0.7255358659528235"
            ]
          },
          "execution_count": 35,
          "metadata": {},
          "output_type": "execute_result"
        }
      ],
      "source": [
        "quotes[\"Vehicle_Value\"].corr(quotes[\"Vehicle_Age\"])"
      ]
    },
    {
      "attachments": {},
      "cell_type": "markdown",
      "metadata": {},
      "source": [
        "The correlation is indeed quite high. Since the value is more relevant in terms of how much the insurance would have to pay, we could drop the age. However, we will guide this decision later using the variance inflation factor."
      ]
    },
    {
      "attachments": {},
      "cell_type": "markdown",
      "metadata": {},
      "source": [
        "The last variable related to the car is its annual mileage. Let us explore its distribution."
      ]
    },
    {
      "cell_type": "code",
      "execution_count": 36,
      "metadata": {},
      "outputs": [
        {
          "data": {
            "text/plain": [
              "(False, -9999.0, 200000.0)"
            ]
          },
          "execution_count": 36,
          "metadata": {},
          "output_type": "execute_result"
        }
      ],
      "source": [
        "# No missing values, a negative value\n",
        "any(quotes[\"Vehicle_Annual_Mileage\"].isna()), quotes[\"Vehicle_Annual_Mileage\"].min(), quotes[\"Vehicle_Annual_Mileage\"].max()"
      ]
    },
    {
      "cell_type": "code",
      "execution_count": 37,
      "metadata": {},
      "outputs": [
        {
          "data": {
            "image/png": "[encoded data removed]",
            "text/plain": [
              "<Figure size 640x480 with 1 Axes>"
            ]
          },
          "metadata": {},
          "output_type": "display_data"
        }
      ],
      "source": [
        "quotes[\"Vehicle_Annual_Mileage\"].plot.hist(bins=50)\n",
        "plt.title(\"Vehicle annual mileage distribution\")\n",
        "plt.show()"
      ]
    },
    {
      "attachments": {},
      "cell_type": "markdown",
      "metadata": {},
      "source": [
        "The histogram shows a small amount of negative values and a gap, so we drop these seemingly erroneous values."
      ]
    },
    {
      "cell_type": "code",
      "execution_count": 38,
      "metadata": {},
      "outputs": [],
      "source": [
        "quotes = quotes[(20000 > quotes[\"Vehicle_Annual_Mileage\"]) & (quotes[\"Vehicle_Annual_Mileage\"]>=0)]"
      ]
    },
    {
      "attachments": {},
      "cell_type": "markdown",
      "metadata": {},
      "source": [
        "The next variable is the credit score. We can see that there are no missing values and that they range between plausible values for the credit score (it should be within the range 0-999)."
      ]
    },
    {
      "cell_type": "code",
      "execution_count": 39,
      "metadata": {},
      "outputs": [
        {
          "data": {
            "text/plain": [
              "(False, 0, 799)"
            ]
          },
          "execution_count": 39,
          "metadata": {},
          "output_type": "execute_result"
        }
      ],
      "source": [
        "any(quotes[\"Credit_Score\"].isna()),quotes[\"Credit_Score\"].min(),quotes[\"Credit_Score\"].max()"
      ]
    },
    {
      "attachments": {},
      "cell_type": "markdown",
      "metadata": {},
      "source": [
        "After this we get the payment type. Let us see the possible values."
      ]
    },
    {
      "cell_type": "code",
      "execution_count": 40,
      "metadata": {},
      "outputs": [
        {
          "data": {
            "text/plain": [
              "array(['Monthly', 'Annual'], dtype=object)"
            ]
          },
          "execution_count": 40,
          "metadata": {},
          "output_type": "execute_result"
        }
      ],
      "source": [
        "quotes[\"Payment_Type\"].unique()"
      ]
    },
    {
      "attachments": {},
      "cell_type": "markdown",
      "metadata": {},
      "source": [
        "There are only two possible payments. We expect the price of the monthly payment to be slightly higher than the annual payment due to the interest. We can confirm this by computing some statisticals and by doing a boxplot. For this we also use the `Premium` column, which should be the payment done."
      ]
    },
    {
      "cell_type": "code",
      "execution_count": 41,
      "metadata": {},
      "outputs": [
        {
          "data": {
            "text/plain": [
              "Payment_Type\n",
              "Annual      995.004972\n",
              "Monthly    1027.792107\n",
              "Name: Premium, dtype: float64"
            ]
          },
          "execution_count": 41,
          "metadata": {},
          "output_type": "execute_result"
        }
      ],
      "source": [
        "# Average value of each payment type\n",
        "quotes.groupby(\"Payment_Type\")[\"Premium\"].mean()"
      ]
    },
    {
      "attachments": {},
      "cell_type": "markdown",
      "metadata": {},
      "source": [
        "We see that as expected, the annual premium is lower on average. This also suggests that `Premium` refers to the total amount paid and not the amount paid in each period. As we mention we also draw a boxplot to understand the distribution better."
      ]
    },
    {
      "cell_type": "code",
      "execution_count": 42,
      "metadata": {},
      "outputs": [
        {
          "data": {
            "image/png": "[encoded data removed]",
            "text/plain": [
              "<Figure size 1000x800 with 1 Axes>"
            ]
          },
          "metadata": {},
          "output_type": "display_data"
        }
      ],
      "source": [
        "fig, ax = plt.subplots(figsize=(10,8))\n",
        "quotes.boxplot(column=\"Premium\", by=\"Payment_Type\", ax=ax)\n",
        "plt.show()"
      ]
    },
    {
      "attachments": {},
      "cell_type": "markdown",
      "metadata": {},
      "source": [
        "The boxplot shows that there are many \"outliers\". When there are so many, we should actually consider them to be part of a distribution with a fat tail, something very common in variables that measure prices or salaries. Therefore, we are just going to replace this variable by a dummy variable telling whether the payment type is monthly or not."
      ]
    },
    {
      "cell_type": "code",
      "execution_count": 43,
      "metadata": {},
      "outputs": [
        {
          "data": {
            "text/html": [
              "<div>\n",
              "<style scoped>\n",
              "    .dataframe tbody tr th:only-of-type {\n",
              "        vertical-align: middle;\n",
              "    }\n",
              "\n",
              "    .dataframe tbody tr th {\n",
              "        vertical-align: top;\n",
              "    }\n",
              "\n",
              "    .dataframe thead th {\n",
              "        text-align: right;\n",
              "    }\n",
              "</style>\n",
              "<table border=\"1\" class=\"dataframe\">\n",
              "  <thead>\n",
              "    <tr style=\"text-align: right;\">\n",
              "      <th></th>\n",
              "      <th>Driver1_Age_Start_Licence</th>\n",
              "      <th>Driver1_Licence_Type</th>\n",
              "      <th>Driver1_Licence_Years</th>\n",
              "      <th>Driver2_Licence_Type</th>\n",
              "      <th>Driver2_Licence_Years</th>\n",
              "      <th>Driver1_Convictions</th>\n",
              "      <th>Driver1_Claims</th>\n",
              "      <th>Driver1_Marital_Status</th>\n",
              "      <th>Vehicle_Age</th>\n",
              "      <th>Vehicle_Value</th>\n",
              "      <th>Vehicle_Annual_Mileage</th>\n",
              "      <th>Credit_Score</th>\n",
              "      <th>Monthly</th>\n",
              "      <th>Days_to_Inception</th>\n",
              "      <th>Premium</th>\n",
              "      <th>Capped_Premium</th>\n",
              "    </tr>\n",
              "  </thead>\n",
              "  <tbody>\n",
              "    <tr>\n",
              "      <th>0</th>\n",
              "      <td>27.0</td>\n",
              "      <td>Full UK</td>\n",
              "      <td>34.0</td>\n",
              "      <td>NaN</td>\n",
              "      <td>NaN</td>\n",
              "      <td>False</td>\n",
              "      <td>0</td>\n",
              "      <td>Married</td>\n",
              "      <td>4</td>\n",
              "      <td>24178</td>\n",
              "      <td>12849.0</td>\n",
              "      <td>240</td>\n",
              "      <td>True</td>\n",
              "      <td>11</td>\n",
              "      <td>707.64</td>\n",
              "      <td>707.64</td>\n",
              "    </tr>\n",
              "    <tr>\n",
              "      <th>1</th>\n",
              "      <td>30.0</td>\n",
              "      <td>Full UK</td>\n",
              "      <td>12.0</td>\n",
              "      <td>NaN</td>\n",
              "      <td>NaN</td>\n",
              "      <td>False</td>\n",
              "      <td>2</td>\n",
              "      <td>Married</td>\n",
              "      <td>14</td>\n",
              "      <td>1744</td>\n",
              "      <td>1250.0</td>\n",
              "      <td>200</td>\n",
              "      <td>False</td>\n",
              "      <td>4</td>\n",
              "      <td>1176.96</td>\n",
              "      <td>1176.96</td>\n",
              "    </tr>\n",
              "    <tr>\n",
              "      <th>3</th>\n",
              "      <td>23.0</td>\n",
              "      <td>Full UK</td>\n",
              "      <td>17.0</td>\n",
              "      <td>Full UK</td>\n",
              "      <td>NaN</td>\n",
              "      <td>False</td>\n",
              "      <td>2</td>\n",
              "      <td>Married</td>\n",
              "      <td>6</td>\n",
              "      <td>12569</td>\n",
              "      <td>12266.0</td>\n",
              "      <td>548</td>\n",
              "      <td>False</td>\n",
              "      <td>0</td>\n",
              "      <td>1282.56</td>\n",
              "      <td>1282.56</td>\n",
              "    </tr>\n",
              "    <tr>\n",
              "      <th>4</th>\n",
              "      <td>17.0</td>\n",
              "      <td>Full UK</td>\n",
              "      <td>25.0</td>\n",
              "      <td>Full UK</td>\n",
              "      <td>NaN</td>\n",
              "      <td>False</td>\n",
              "      <td>0</td>\n",
              "      <td>Separated</td>\n",
              "      <td>8</td>\n",
              "      <td>11395</td>\n",
              "      <td>11117.0</td>\n",
              "      <td>393</td>\n",
              "      <td>False</td>\n",
              "      <td>30</td>\n",
              "      <td>1471.02</td>\n",
              "      <td>1471.02</td>\n",
              "    </tr>\n",
              "    <tr>\n",
              "      <th>5</th>\n",
              "      <td>18.0</td>\n",
              "      <td>Full UK</td>\n",
              "      <td>45.0</td>\n",
              "      <td>Automatic</td>\n",
              "      <td>20.0</td>\n",
              "      <td>False</td>\n",
              "      <td>2</td>\n",
              "      <td>Married</td>\n",
              "      <td>5</td>\n",
              "      <td>6172</td>\n",
              "      <td>3589.0</td>\n",
              "      <td>689</td>\n",
              "      <td>True</td>\n",
              "      <td>0</td>\n",
              "      <td>730.98</td>\n",
              "      <td>730.98</td>\n",
              "    </tr>\n",
              "  </tbody>\n",
              "</table>\n",
              "</div>"
            ],
            "text/plain": [
              "   Driver1_Age_Start_Licence Driver1_Licence_Type  Driver1_Licence_Years   \n",
              "0                       27.0              Full UK                   34.0  \\\n",
              "1                       30.0              Full UK                   12.0   \n",
              "3                       23.0              Full UK                   17.0   \n",
              "4                       17.0              Full UK                   25.0   \n",
              "5                       18.0              Full UK                   45.0   \n",
              "\n",
              "  Driver2_Licence_Type  Driver2_Licence_Years  Driver1_Convictions   \n",
              "0                  NaN                    NaN                False  \\\n",
              "1                  NaN                    NaN                False   \n",
              "3              Full UK                    NaN                False   \n",
              "4              Full UK                    NaN                False   \n",
              "5            Automatic                   20.0                False   \n",
              "\n",
              "   Driver1_Claims Driver1_Marital_Status  Vehicle_Age  Vehicle_Value   \n",
              "0               0                Married            4          24178  \\\n",
              "1               2                Married           14           1744   \n",
              "3               2                Married            6          12569   \n",
              "4               0              Separated            8          11395   \n",
              "5               2                Married            5           6172   \n",
              "\n",
              "   Vehicle_Annual_Mileage  Credit_Score  Monthly  Days_to_Inception  Premium   \n",
              "0                 12849.0           240     True                 11   707.64  \\\n",
              "1                  1250.0           200    False                  4  1176.96   \n",
              "3                 12266.0           548    False                  0  1282.56   \n",
              "4                 11117.0           393    False                 30  1471.02   \n",
              "5                  3589.0           689     True                  0   730.98   \n",
              "\n",
              "   Capped_Premium  \n",
              "0          707.64  \n",
              "1         1176.96  \n",
              "3         1282.56  \n",
              "4         1471.02  \n",
              "5          730.98  "
            ]
          },
          "execution_count": 43,
          "metadata": {},
          "output_type": "execute_result"
        }
      ],
      "source": [
        "quotes[\"Payment_Type\"]=pd.get_dummies(quotes[\"Payment_Type\"], drop_first=True)\n",
        "quotes.rename(columns={\"Payment_Type\":\"Monthly\"}, inplace=True)\n",
        "quotes.head()"
      ]
    },
    {
      "attachments": {},
      "cell_type": "markdown",
      "metadata": {},
      "source": [
        "We have skipped the `Days_To_Inception` column. This seems to be the number of days between hiring the insurance covering and it being effecive. We can have a look at the range."
      ]
    },
    {
      "cell_type": "code",
      "execution_count": 44,
      "metadata": {},
      "outputs": [
        {
          "data": {
            "text/plain": [
              "(0, 30)"
            ]
          },
          "execution_count": 44,
          "metadata": {},
          "output_type": "execute_result"
        }
      ],
      "source": [
        "quotes[\"Days_to_Inception\"].min(),quotes[\"Days_to_Inception\"].max()"
      ]
    },
    {
      "attachments": {},
      "cell_type": "markdown",
      "metadata": {},
      "source": [
        "The number of days is always less than 30, suggesting that maybe the insurance covering becomes effective on a fixed day of each month. This variable is therefore not relevant for the model and we drop it."
      ]
    },
    {
      "cell_type": "code",
      "execution_count": 45,
      "metadata": {},
      "outputs": [
        {
          "data": {
            "text/html": [
              "<div>\n",
              "<style scoped>\n",
              "    .dataframe tbody tr th:only-of-type {\n",
              "        vertical-align: middle;\n",
              "    }\n",
              "\n",
              "    .dataframe tbody tr th {\n",
              "        vertical-align: top;\n",
              "    }\n",
              "\n",
              "    .dataframe thead th {\n",
              "        text-align: right;\n",
              "    }\n",
              "</style>\n",
              "<table border=\"1\" class=\"dataframe\">\n",
              "  <thead>\n",
              "    <tr style=\"text-align: right;\">\n",
              "      <th></th>\n",
              "      <th>Driver1_Age_Start_Licence</th>\n",
              "      <th>Driver1_Licence_Type</th>\n",
              "      <th>Driver1_Licence_Years</th>\n",
              "      <th>Driver2_Licence_Type</th>\n",
              "      <th>Driver2_Licence_Years</th>\n",
              "      <th>Driver1_Convictions</th>\n",
              "      <th>Driver1_Claims</th>\n",
              "      <th>Driver1_Marital_Status</th>\n",
              "      <th>Vehicle_Age</th>\n",
              "      <th>Vehicle_Value</th>\n",
              "      <th>Vehicle_Annual_Mileage</th>\n",
              "      <th>Credit_Score</th>\n",
              "      <th>Monthly</th>\n",
              "      <th>Premium</th>\n",
              "      <th>Capped_Premium</th>\n",
              "    </tr>\n",
              "  </thead>\n",
              "  <tbody>\n",
              "    <tr>\n",
              "      <th>0</th>\n",
              "      <td>27.0</td>\n",
              "      <td>Full UK</td>\n",
              "      <td>34.0</td>\n",
              "      <td>NaN</td>\n",
              "      <td>NaN</td>\n",
              "      <td>False</td>\n",
              "      <td>0</td>\n",
              "      <td>Married</td>\n",
              "      <td>4</td>\n",
              "      <td>24178</td>\n",
              "      <td>12849.0</td>\n",
              "      <td>240</td>\n",
              "      <td>True</td>\n",
              "      <td>707.64</td>\n",
              "      <td>707.64</td>\n",
              "    </tr>\n",
              "    <tr>\n",
              "      <th>1</th>\n",
              "      <td>30.0</td>\n",
              "      <td>Full UK</td>\n",
              "      <td>12.0</td>\n",
              "      <td>NaN</td>\n",
              "      <td>NaN</td>\n",
              "      <td>False</td>\n",
              "      <td>2</td>\n",
              "      <td>Married</td>\n",
              "      <td>14</td>\n",
              "      <td>1744</td>\n",
              "      <td>1250.0</td>\n",
              "      <td>200</td>\n",
              "      <td>False</td>\n",
              "      <td>1176.96</td>\n",
              "      <td>1176.96</td>\n",
              "    </tr>\n",
              "    <tr>\n",
              "      <th>3</th>\n",
              "      <td>23.0</td>\n",
              "      <td>Full UK</td>\n",
              "      <td>17.0</td>\n",
              "      <td>Full UK</td>\n",
              "      <td>NaN</td>\n",
              "      <td>False</td>\n",
              "      <td>2</td>\n",
              "      <td>Married</td>\n",
              "      <td>6</td>\n",
              "      <td>12569</td>\n",
              "      <td>12266.0</td>\n",
              "      <td>548</td>\n",
              "      <td>False</td>\n",
              "      <td>1282.56</td>\n",
              "      <td>1282.56</td>\n",
              "    </tr>\n",
              "    <tr>\n",
              "      <th>4</th>\n",
              "      <td>17.0</td>\n",
              "      <td>Full UK</td>\n",
              "      <td>25.0</td>\n",
              "      <td>Full UK</td>\n",
              "      <td>NaN</td>\n",
              "      <td>False</td>\n",
              "      <td>0</td>\n",
              "      <td>Separated</td>\n",
              "      <td>8</td>\n",
              "      <td>11395</td>\n",
              "      <td>11117.0</td>\n",
              "      <td>393</td>\n",
              "      <td>False</td>\n",
              "      <td>1471.02</td>\n",
              "      <td>1471.02</td>\n",
              "    </tr>\n",
              "    <tr>\n",
              "      <th>5</th>\n",
              "      <td>18.0</td>\n",
              "      <td>Full UK</td>\n",
              "      <td>45.0</td>\n",
              "      <td>Automatic</td>\n",
              "      <td>20.0</td>\n",
              "      <td>False</td>\n",
              "      <td>2</td>\n",
              "      <td>Married</td>\n",
              "      <td>5</td>\n",
              "      <td>6172</td>\n",
              "      <td>3589.0</td>\n",
              "      <td>689</td>\n",
              "      <td>True</td>\n",
              "      <td>730.98</td>\n",
              "      <td>730.98</td>\n",
              "    </tr>\n",
              "  </tbody>\n",
              "</table>\n",
              "</div>"
            ],
            "text/plain": [
              "   Driver1_Age_Start_Licence Driver1_Licence_Type  Driver1_Licence_Years   \n",
              "0                       27.0              Full UK                   34.0  \\\n",
              "1                       30.0              Full UK                   12.0   \n",
              "3                       23.0              Full UK                   17.0   \n",
              "4                       17.0              Full UK                   25.0   \n",
              "5                       18.0              Full UK                   45.0   \n",
              "\n",
              "  Driver2_Licence_Type  Driver2_Licence_Years  Driver1_Convictions   \n",
              "0                  NaN                    NaN                False  \\\n",
              "1                  NaN                    NaN                False   \n",
              "3              Full UK                    NaN                False   \n",
              "4              Full UK                    NaN                False   \n",
              "5            Automatic                   20.0                False   \n",
              "\n",
              "   Driver1_Claims Driver1_Marital_Status  Vehicle_Age  Vehicle_Value   \n",
              "0               0                Married            4          24178  \\\n",
              "1               2                Married           14           1744   \n",
              "3               2                Married            6          12569   \n",
              "4               0              Separated            8          11395   \n",
              "5               2                Married            5           6172   \n",
              "\n",
              "   Vehicle_Annual_Mileage  Credit_Score  Monthly  Premium  Capped_Premium  \n",
              "0                 12849.0           240     True   707.64          707.64  \n",
              "1                  1250.0           200    False  1176.96         1176.96  \n",
              "3                 12266.0           548    False  1282.56         1282.56  \n",
              "4                 11117.0           393    False  1471.02         1471.02  \n",
              "5                  3589.0           689     True   730.98          730.98  "
            ]
          },
          "execution_count": 45,
          "metadata": {},
          "output_type": "execute_result"
        }
      ],
      "source": [
        "quotes.drop(columns=[\"Days_to_Inception\"],inplace=True)\n",
        "quotes.head()"
      ]
    },
    {
      "attachments": {},
      "cell_type": "markdown",
      "metadata": {},
      "source": [
        "Finally, there is a `Capped_Premium` column. This is supposed to be a limit to the Premium, usually for renewal. At first glance, it seems to be equal to the premium in some cases, so let us explore when it is not."
      ]
    },
    {
      "cell_type": "code",
      "execution_count": 46,
      "metadata": {},
      "outputs": [
        {
          "data": {
            "text/plain": [
              "array([4000.])"
            ]
          },
          "execution_count": 46,
          "metadata": {},
          "output_type": "execute_result"
        }
      ],
      "source": [
        "# Values of Capped Premium when it is not equal to Premium\n",
        "quotes[quotes[\"Premium\"] != quotes[\"Capped_Premium\"]][\"Capped_Premium\"].unique()"
      ]
    },
    {
      "attachments": {},
      "cell_type": "markdown",
      "metadata": {},
      "source": [
        "We see that there is a unique value of capped premium that is applied. We are not taking this value into account since it is fixed for every customer."
      ]
    },
    {
      "cell_type": "code",
      "execution_count": 47,
      "metadata": {},
      "outputs": [
        {
          "data": {
            "text/html": [
              "<div>\n",
              "<style scoped>\n",
              "    .dataframe tbody tr th:only-of-type {\n",
              "        vertical-align: middle;\n",
              "    }\n",
              "\n",
              "    .dataframe tbody tr th {\n",
              "        vertical-align: top;\n",
              "    }\n",
              "\n",
              "    .dataframe thead th {\n",
              "        text-align: right;\n",
              "    }\n",
              "</style>\n",
              "<table border=\"1\" class=\"dataframe\">\n",
              "  <thead>\n",
              "    <tr style=\"text-align: right;\">\n",
              "      <th></th>\n",
              "      <th>Driver1_Age_Start_Licence</th>\n",
              "      <th>Driver1_Licence_Type</th>\n",
              "      <th>Driver1_Licence_Years</th>\n",
              "      <th>Driver2_Licence_Type</th>\n",
              "      <th>Driver2_Licence_Years</th>\n",
              "      <th>Driver1_Convictions</th>\n",
              "      <th>Driver1_Claims</th>\n",
              "      <th>Driver1_Marital_Status</th>\n",
              "      <th>Vehicle_Age</th>\n",
              "      <th>Vehicle_Value</th>\n",
              "      <th>Vehicle_Annual_Mileage</th>\n",
              "      <th>Credit_Score</th>\n",
              "      <th>Monthly</th>\n",
              "      <th>Premium</th>\n",
              "    </tr>\n",
              "  </thead>\n",
              "  <tbody>\n",
              "    <tr>\n",
              "      <th>0</th>\n",
              "      <td>27.0</td>\n",
              "      <td>Full UK</td>\n",
              "      <td>34.0</td>\n",
              "      <td>NaN</td>\n",
              "      <td>NaN</td>\n",
              "      <td>False</td>\n",
              "      <td>0</td>\n",
              "      <td>Married</td>\n",
              "      <td>4</td>\n",
              "      <td>24178</td>\n",
              "      <td>12849.0</td>\n",
              "      <td>240</td>\n",
              "      <td>True</td>\n",
              "      <td>707.64</td>\n",
              "    </tr>\n",
              "    <tr>\n",
              "      <th>1</th>\n",
              "      <td>30.0</td>\n",
              "      <td>Full UK</td>\n",
              "      <td>12.0</td>\n",
              "      <td>NaN</td>\n",
              "      <td>NaN</td>\n",
              "      <td>False</td>\n",
              "      <td>2</td>\n",
              "      <td>Married</td>\n",
              "      <td>14</td>\n",
              "      <td>1744</td>\n",
              "      <td>1250.0</td>\n",
              "      <td>200</td>\n",
              "      <td>False</td>\n",
              "      <td>1176.96</td>\n",
              "    </tr>\n",
              "    <tr>\n",
              "      <th>3</th>\n",
              "      <td>23.0</td>\n",
              "      <td>Full UK</td>\n",
              "      <td>17.0</td>\n",
              "      <td>Full UK</td>\n",
              "      <td>NaN</td>\n",
              "      <td>False</td>\n",
              "      <td>2</td>\n",
              "      <td>Married</td>\n",
              "      <td>6</td>\n",
              "      <td>12569</td>\n",
              "      <td>12266.0</td>\n",
              "      <td>548</td>\n",
              "      <td>False</td>\n",
              "      <td>1282.56</td>\n",
              "    </tr>\n",
              "    <tr>\n",
              "      <th>4</th>\n",
              "      <td>17.0</td>\n",
              "      <td>Full UK</td>\n",
              "      <td>25.0</td>\n",
              "      <td>Full UK</td>\n",
              "      <td>NaN</td>\n",
              "      <td>False</td>\n",
              "      <td>0</td>\n",
              "      <td>Separated</td>\n",
              "      <td>8</td>\n",
              "      <td>11395</td>\n",
              "      <td>11117.0</td>\n",
              "      <td>393</td>\n",
              "      <td>False</td>\n",
              "      <td>1471.02</td>\n",
              "    </tr>\n",
              "    <tr>\n",
              "      <th>5</th>\n",
              "      <td>18.0</td>\n",
              "      <td>Full UK</td>\n",
              "      <td>45.0</td>\n",
              "      <td>Automatic</td>\n",
              "      <td>20.0</td>\n",
              "      <td>False</td>\n",
              "      <td>2</td>\n",
              "      <td>Married</td>\n",
              "      <td>5</td>\n",
              "      <td>6172</td>\n",
              "      <td>3589.0</td>\n",
              "      <td>689</td>\n",
              "      <td>True</td>\n",
              "      <td>730.98</td>\n",
              "    </tr>\n",
              "  </tbody>\n",
              "</table>\n",
              "</div>"
            ],
            "text/plain": [
              "   Driver1_Age_Start_Licence Driver1_Licence_Type  Driver1_Licence_Years   \n",
              "0                       27.0              Full UK                   34.0  \\\n",
              "1                       30.0              Full UK                   12.0   \n",
              "3                       23.0              Full UK                   17.0   \n",
              "4                       17.0              Full UK                   25.0   \n",
              "5                       18.0              Full UK                   45.0   \n",
              "\n",
              "  Driver2_Licence_Type  Driver2_Licence_Years  Driver1_Convictions   \n",
              "0                  NaN                    NaN                False  \\\n",
              "1                  NaN                    NaN                False   \n",
              "3              Full UK                    NaN                False   \n",
              "4              Full UK                    NaN                False   \n",
              "5            Automatic                   20.0                False   \n",
              "\n",
              "   Driver1_Claims Driver1_Marital_Status  Vehicle_Age  Vehicle_Value   \n",
              "0               0                Married            4          24178  \\\n",
              "1               2                Married           14           1744   \n",
              "3               2                Married            6          12569   \n",
              "4               0              Separated            8          11395   \n",
              "5               2                Married            5           6172   \n",
              "\n",
              "   Vehicle_Annual_Mileage  Credit_Score  Monthly  Premium  \n",
              "0                 12849.0           240     True   707.64  \n",
              "1                  1250.0           200    False  1176.96  \n",
              "3                 12266.0           548    False  1282.56  \n",
              "4                 11117.0           393    False  1471.02  \n",
              "5                  3589.0           689     True   730.98  "
            ]
          },
          "execution_count": 47,
          "metadata": {},
          "output_type": "execute_result"
        }
      ],
      "source": [
        "quotes.drop(columns=[\"Capped_Premium\"], inplace=True)\n",
        "quotes.head()"
      ]
    },
    {
      "attachments": {},
      "cell_type": "markdown",
      "metadata": {},
      "source": [
        "## Variance Inflaction Coefficient\n",
        "\n",
        "We know use the VIF coefficient to eliminate any potentially redundant columns. We apply this only to numerical variables other than Premium (since premium should be explained by the rest)."
      ]
    },
    {
      "cell_type": "code",
      "execution_count": 48,
      "metadata": {},
      "outputs": [
        {
          "data": {
            "text/plain": [
              "const                        38.080673\n",
              "Driver1_Age_Start_Licence     1.044837\n",
              "Driver1_Licence_Years         1.058902\n",
              "Driver1_Claims                1.001612\n",
              "Vehicle_Value                 3.263060\n",
              "Vehicle_Age                   2.160980\n",
              "Vehicle_Annual_Mileage        2.312428\n",
              "Credit_Score                  1.000105\n",
              "dtype: float64"
            ]
          },
          "execution_count": 48,
          "metadata": {},
          "output_type": "execute_result"
        }
      ],
      "source": [
        "\n",
        "X = add_constant(quotes[[\"Driver1_Age_Start_Licence\", \"Driver1_Licence_Years\", \"Driver1_Claims\", \"Vehicle_Value\", \"Vehicle_Age\", \"Vehicle_Annual_Mileage\", \"Credit_Score\"]])\n",
        "pd.Series([variance_inflation_factor(X.values, i) \n",
        "               for i in range(X.shape[1])], \n",
        "              index=X.columns) "
      ]
    },
    {
      "attachments": {},
      "cell_type": "markdown",
      "metadata": {},
      "source": [
        "We observe that `Vehicle_Value` has the highest VIF, so it may actually be better to drop this variable than `Vehicle_Age`, unlike we previously thought."
      ]
    },
    {
      "cell_type": "code",
      "execution_count": 49,
      "metadata": {},
      "outputs": [
        {
          "data": {
            "text/plain": [
              "const                        29.723802\n",
              "Driver1_Age_Start_Licence     1.041857\n",
              "Driver1_Licence_Years         1.053667\n",
              "Driver1_Claims                1.001514\n",
              "Vehicle_Age                   1.526343\n",
              "Vehicle_Annual_Mileage        1.516827\n",
              "Credit_Score                  1.000079\n",
              "dtype: float64"
            ]
          },
          "execution_count": 49,
          "metadata": {},
          "output_type": "execute_result"
        }
      ],
      "source": [
        "# drop the column and recompute VIF\n",
        "quotes.drop(columns=[\"Vehicle_Value\"], inplace=True)\n",
        "X = add_constant(quotes[[\"Driver1_Age_Start_Licence\", \"Driver1_Licence_Years\", \"Driver1_Claims\", \"Vehicle_Age\", \"Vehicle_Annual_Mileage\", \"Credit_Score\"]])\n",
        "pd.Series([variance_inflation_factor(X.values, i) \n",
        "               for i in range(X.shape[1])], \n",
        "              index=X.columns) "
      ]
    },
    {
      "attachments": {},
      "cell_type": "markdown",
      "metadata": {},
      "source": [
        "Now every VIF coefficient is around 1, so we can keep the remaining variables."
      ]
    },
    {
      "attachments": {},
      "cell_type": "markdown",
      "metadata": {},
      "source": [
        "## Drivers"
      ]
    },
    {
      "attachments": {},
      "cell_type": "markdown",
      "metadata": {},
      "source": [
        "We are going back to the drivers now. We can see that we have less information about Driver 2 than about Driver 1. It may be useful to have the same amount of information. Let us see how many missing values for the licence years."
      ]
    },
    {
      "cell_type": "code",
      "execution_count": 50,
      "metadata": {},
      "outputs": [
        {
          "data": {
            "text/plain": [
              "22836"
            ]
          },
          "execution_count": 50,
          "metadata": {},
          "output_type": "execute_result"
        }
      ],
      "source": [
        "# Total number of missing values\n",
        "quotes[\"Driver2_Licence_Years\"].isna().sum()"
      ]
    },
    {
      "attachments": {},
      "cell_type": "markdown",
      "metadata": {},
      "source": [
        "The amount of missing values is very high compare to the total amount of entries. Therefore, we should fill it. Since the only extra iformation about Driver 2 that we have is the licence type, we are going to fill with the average of the corresponding licence type. We saw that there are missing values on the Driver 2 licence type in the first few rows already. We are going to treat `NaN` as another group. \n",
        "\n",
        "However, we make an exception. We are going to assume that the combination `NaN` Driver 2 licence years and `NaN` Driver 2 licence type means that there is no driver 2. This will lead to two different datasets and therefore two different models. \n",
        "\n",
        "Alternatively, we could create a new variable that tells whether there is a second driver or not. We do not do this because it requires more data processing, and we may lose precision."
      ]
    },
    {
      "attachments": {},
      "cell_type": "markdown",
      "metadata": {},
      "source": [
        "## Single Drivers\n",
        " We start exploring the data for single drivers.\n"
      ]
    },
    {
      "cell_type": "code",
      "execution_count": 51,
      "metadata": {
        "colab": {
          "base_uri": "https://localhost:8080/",
          "height": 487
        },
        "id": "jWC4mEtP5exS",
        "outputId": "ad216ec2-94f7-431d-bfb5-8a613029d00f"
      },
      "outputs": [
        {
          "data": {
            "text/html": [
              "<div>\n",
              "<style scoped>\n",
              "    .dataframe tbody tr th:only-of-type {\n",
              "        vertical-align: middle;\n",
              "    }\n",
              "\n",
              "    .dataframe tbody tr th {\n",
              "        vertical-align: top;\n",
              "    }\n",
              "\n",
              "    .dataframe thead th {\n",
              "        text-align: right;\n",
              "    }\n",
              "</style>\n",
              "<table border=\"1\" class=\"dataframe\">\n",
              "  <thead>\n",
              "    <tr style=\"text-align: right;\">\n",
              "      <th></th>\n",
              "      <th>Driver1_Age_Start_Licence</th>\n",
              "      <th>Driver1_Licence_Type</th>\n",
              "      <th>Driver1_Licence_Years</th>\n",
              "      <th>Driver1_Convictions</th>\n",
              "      <th>Driver1_Claims</th>\n",
              "      <th>Driver1_Marital_Status</th>\n",
              "      <th>Vehicle_Age</th>\n",
              "      <th>Vehicle_Annual_Mileage</th>\n",
              "      <th>Credit_Score</th>\n",
              "      <th>Monthly</th>\n",
              "      <th>Premium</th>\n",
              "    </tr>\n",
              "  </thead>\n",
              "  <tbody>\n",
              "    <tr>\n",
              "      <th>0</th>\n",
              "      <td>27.0</td>\n",
              "      <td>Full UK</td>\n",
              "      <td>34.0</td>\n",
              "      <td>False</td>\n",
              "      <td>0</td>\n",
              "      <td>Married</td>\n",
              "      <td>4</td>\n",
              "      <td>12849.0</td>\n",
              "      <td>240</td>\n",
              "      <td>True</td>\n",
              "      <td>707.64</td>\n",
              "    </tr>\n",
              "    <tr>\n",
              "      <th>1</th>\n",
              "      <td>30.0</td>\n",
              "      <td>Full UK</td>\n",
              "      <td>12.0</td>\n",
              "      <td>False</td>\n",
              "      <td>2</td>\n",
              "      <td>Married</td>\n",
              "      <td>14</td>\n",
              "      <td>1250.0</td>\n",
              "      <td>200</td>\n",
              "      <td>False</td>\n",
              "      <td>1176.96</td>\n",
              "    </tr>\n",
              "    <tr>\n",
              "      <th>14</th>\n",
              "      <td>17.0</td>\n",
              "      <td>Full UK</td>\n",
              "      <td>25.0</td>\n",
              "      <td>False</td>\n",
              "      <td>2</td>\n",
              "      <td>Divorced</td>\n",
              "      <td>10</td>\n",
              "      <td>1193.0</td>\n",
              "      <td>669</td>\n",
              "      <td>True</td>\n",
              "      <td>334.98</td>\n",
              "    </tr>\n",
              "    <tr>\n",
              "      <th>16</th>\n",
              "      <td>17.0</td>\n",
              "      <td>Full UK</td>\n",
              "      <td>32.0</td>\n",
              "      <td>False</td>\n",
              "      <td>0</td>\n",
              "      <td>Separated</td>\n",
              "      <td>13</td>\n",
              "      <td>4930.0</td>\n",
              "      <td>396</td>\n",
              "      <td>False</td>\n",
              "      <td>1839.00</td>\n",
              "    </tr>\n",
              "    <tr>\n",
              "      <th>23</th>\n",
              "      <td>30.0</td>\n",
              "      <td>Full UK</td>\n",
              "      <td>18.0</td>\n",
              "      <td>False</td>\n",
              "      <td>0</td>\n",
              "      <td>Divorced</td>\n",
              "      <td>7</td>\n",
              "      <td>4385.0</td>\n",
              "      <td>791</td>\n",
              "      <td>False</td>\n",
              "      <td>264.21</td>\n",
              "    </tr>\n",
              "    <tr>\n",
              "      <th>...</th>\n",
              "      <td>...</td>\n",
              "      <td>...</td>\n",
              "      <td>...</td>\n",
              "      <td>...</td>\n",
              "      <td>...</td>\n",
              "      <td>...</td>\n",
              "      <td>...</td>\n",
              "      <td>...</td>\n",
              "      <td>...</td>\n",
              "      <td>...</td>\n",
              "      <td>...</td>\n",
              "    </tr>\n",
              "    <tr>\n",
              "      <th>49607</th>\n",
              "      <td>20.0</td>\n",
              "      <td>Full UK</td>\n",
              "      <td>34.0</td>\n",
              "      <td>False</td>\n",
              "      <td>0</td>\n",
              "      <td>Divorced</td>\n",
              "      <td>5</td>\n",
              "      <td>4103.0</td>\n",
              "      <td>732</td>\n",
              "      <td>False</td>\n",
              "      <td>528.03</td>\n",
              "    </tr>\n",
              "    <tr>\n",
              "      <th>49608</th>\n",
              "      <td>27.0</td>\n",
              "      <td>Full UK</td>\n",
              "      <td>0.0</td>\n",
              "      <td>False</td>\n",
              "      <td>3</td>\n",
              "      <td>Married</td>\n",
              "      <td>7</td>\n",
              "      <td>6770.0</td>\n",
              "      <td>225</td>\n",
              "      <td>True</td>\n",
              "      <td>2135.49</td>\n",
              "    </tr>\n",
              "    <tr>\n",
              "      <th>49618</th>\n",
              "      <td>32.0</td>\n",
              "      <td>Full UK</td>\n",
              "      <td>23.0</td>\n",
              "      <td>False</td>\n",
              "      <td>2</td>\n",
              "      <td>Single</td>\n",
              "      <td>20</td>\n",
              "      <td>1102.0</td>\n",
              "      <td>784</td>\n",
              "      <td>False</td>\n",
              "      <td>923.13</td>\n",
              "    </tr>\n",
              "    <tr>\n",
              "      <th>49625</th>\n",
              "      <td>17.0</td>\n",
              "      <td>Automatic</td>\n",
              "      <td>10.0</td>\n",
              "      <td>True</td>\n",
              "      <td>3</td>\n",
              "      <td>Single</td>\n",
              "      <td>6</td>\n",
              "      <td>9100.0</td>\n",
              "      <td>710</td>\n",
              "      <td>True</td>\n",
              "      <td>1521.78</td>\n",
              "    </tr>\n",
              "    <tr>\n",
              "      <th>49626</th>\n",
              "      <td>26.0</td>\n",
              "      <td>Full UK</td>\n",
              "      <td>28.0</td>\n",
              "      <td>False</td>\n",
              "      <td>0</td>\n",
              "      <td>Single</td>\n",
              "      <td>12</td>\n",
              "      <td>8474.0</td>\n",
              "      <td>309</td>\n",
              "      <td>True</td>\n",
              "      <td>341.07</td>\n",
              "    </tr>\n",
              "  </tbody>\n",
              "</table>\n",
              "<p>7983 rows × 11 columns</p>\n",
              "</div>"
            ],
            "text/plain": [
              "       Driver1_Age_Start_Licence Driver1_Licence_Type  Driver1_Licence_Years   \n",
              "0                           27.0              Full UK                   34.0  \\\n",
              "1                           30.0              Full UK                   12.0   \n",
              "14                          17.0              Full UK                   25.0   \n",
              "16                          17.0              Full UK                   32.0   \n",
              "23                          30.0              Full UK                   18.0   \n",
              "...                          ...                  ...                    ...   \n",
              "49607                       20.0              Full UK                   34.0   \n",
              "49608                       27.0              Full UK                    0.0   \n",
              "49618                       32.0              Full UK                   23.0   \n",
              "49625                       17.0            Automatic                   10.0   \n",
              "49626                       26.0              Full UK                   28.0   \n",
              "\n",
              "       Driver1_Convictions  Driver1_Claims Driver1_Marital_Status   \n",
              "0                    False               0                Married  \\\n",
              "1                    False               2                Married   \n",
              "14                   False               2               Divorced   \n",
              "16                   False               0              Separated   \n",
              "23                   False               0               Divorced   \n",
              "...                    ...             ...                    ...   \n",
              "49607                False               0               Divorced   \n",
              "49608                False               3                Married   \n",
              "49618                False               2                 Single   \n",
              "49625                 True               3                 Single   \n",
              "49626                False               0                 Single   \n",
              "\n",
              "       Vehicle_Age  Vehicle_Annual_Mileage  Credit_Score  Monthly  Premium  \n",
              "0                4                 12849.0           240     True   707.64  \n",
              "1               14                  1250.0           200    False  1176.96  \n",
              "14              10                  1193.0           669     True   334.98  \n",
              "16              13                  4930.0           396    False  1839.00  \n",
              "23               7                  4385.0           791    False   264.21  \n",
              "...            ...                     ...           ...      ...      ...  \n",
              "49607            5                  4103.0           732    False   528.03  \n",
              "49608            7                  6770.0           225     True  2135.49  \n",
              "49618           20                  1102.0           784    False   923.13  \n",
              "49625            6                  9100.0           710     True  1521.78  \n",
              "49626           12                  8474.0           309     True   341.07  \n",
              "\n",
              "[7983 rows x 11 columns]"
            ]
          },
          "execution_count": 51,
          "metadata": {},
          "output_type": "execute_result"
        }
      ],
      "source": [
        "single_drivers = quotes[(quotes[\"Driver2_Licence_Type\"].isna()) & (quotes[\"Driver2_Licence_Years\"].isna())].drop(columns=[\"Driver2_Licence_Type\", \"Driver2_Licence_Years\"], inplace=False)\n",
        "single_drivers"
      ]
    },
    {
      "attachments": {},
      "cell_type": "markdown",
      "metadata": {},
      "source": [
        "We need to encode the categorical values so that we can use them in our model."
      ]
    },
    {
      "cell_type": "code",
      "execution_count": 52,
      "metadata": {
        "id": "2Vc_rMVwSFAF"
      },
      "outputs": [
        {
          "data": {
            "text/html": [
              "<div>\n",
              "<style scoped>\n",
              "    .dataframe tbody tr th:only-of-type {\n",
              "        vertical-align: middle;\n",
              "    }\n",
              "\n",
              "    .dataframe tbody tr th {\n",
              "        vertical-align: top;\n",
              "    }\n",
              "\n",
              "    .dataframe thead th {\n",
              "        text-align: right;\n",
              "    }\n",
              "</style>\n",
              "<table border=\"1\" class=\"dataframe\">\n",
              "  <thead>\n",
              "    <tr style=\"text-align: right;\">\n",
              "      <th></th>\n",
              "      <th>Driver1_Age_Start_Licence</th>\n",
              "      <th>Driver1_Licence_Type</th>\n",
              "      <th>Driver1_Licence_Years</th>\n",
              "      <th>Driver1_Convictions</th>\n",
              "      <th>Driver1_Claims</th>\n",
              "      <th>Driver1_Marital_Status</th>\n",
              "      <th>Vehicle_Age</th>\n",
              "      <th>Vehicle_Annual_Mileage</th>\n",
              "      <th>Credit_Score</th>\n",
              "      <th>Monthly</th>\n",
              "      <th>Premium</th>\n",
              "    </tr>\n",
              "  </thead>\n",
              "  <tbody>\n",
              "    <tr>\n",
              "      <th>0</th>\n",
              "      <td>27.0</td>\n",
              "      <td>1</td>\n",
              "      <td>34.0</td>\n",
              "      <td>False</td>\n",
              "      <td>0</td>\n",
              "      <td>3</td>\n",
              "      <td>4</td>\n",
              "      <td>12849.0</td>\n",
              "      <td>240</td>\n",
              "      <td>True</td>\n",
              "      <td>707.64</td>\n",
              "    </tr>\n",
              "    <tr>\n",
              "      <th>1</th>\n",
              "      <td>30.0</td>\n",
              "      <td>1</td>\n",
              "      <td>12.0</td>\n",
              "      <td>False</td>\n",
              "      <td>2</td>\n",
              "      <td>3</td>\n",
              "      <td>14</td>\n",
              "      <td>1250.0</td>\n",
              "      <td>200</td>\n",
              "      <td>False</td>\n",
              "      <td>1176.96</td>\n",
              "    </tr>\n",
              "    <tr>\n",
              "      <th>14</th>\n",
              "      <td>17.0</td>\n",
              "      <td>1</td>\n",
              "      <td>25.0</td>\n",
              "      <td>False</td>\n",
              "      <td>2</td>\n",
              "      <td>2</td>\n",
              "      <td>10</td>\n",
              "      <td>1193.0</td>\n",
              "      <td>669</td>\n",
              "      <td>True</td>\n",
              "      <td>334.98</td>\n",
              "    </tr>\n",
              "    <tr>\n",
              "      <th>16</th>\n",
              "      <td>17.0</td>\n",
              "      <td>1</td>\n",
              "      <td>32.0</td>\n",
              "      <td>False</td>\n",
              "      <td>0</td>\n",
              "      <td>5</td>\n",
              "      <td>13</td>\n",
              "      <td>4930.0</td>\n",
              "      <td>396</td>\n",
              "      <td>False</td>\n",
              "      <td>1839.00</td>\n",
              "    </tr>\n",
              "    <tr>\n",
              "      <th>23</th>\n",
              "      <td>30.0</td>\n",
              "      <td>1</td>\n",
              "      <td>18.0</td>\n",
              "      <td>False</td>\n",
              "      <td>0</td>\n",
              "      <td>2</td>\n",
              "      <td>7</td>\n",
              "      <td>4385.0</td>\n",
              "      <td>791</td>\n",
              "      <td>False</td>\n",
              "      <td>264.21</td>\n",
              "    </tr>\n",
              "    <tr>\n",
              "      <th>...</th>\n",
              "      <td>...</td>\n",
              "      <td>...</td>\n",
              "      <td>...</td>\n",
              "      <td>...</td>\n",
              "      <td>...</td>\n",
              "      <td>...</td>\n",
              "      <td>...</td>\n",
              "      <td>...</td>\n",
              "      <td>...</td>\n",
              "      <td>...</td>\n",
              "      <td>...</td>\n",
              "    </tr>\n",
              "    <tr>\n",
              "      <th>49607</th>\n",
              "      <td>20.0</td>\n",
              "      <td>1</td>\n",
              "      <td>34.0</td>\n",
              "      <td>False</td>\n",
              "      <td>0</td>\n",
              "      <td>2</td>\n",
              "      <td>5</td>\n",
              "      <td>4103.0</td>\n",
              "      <td>732</td>\n",
              "      <td>False</td>\n",
              "      <td>528.03</td>\n",
              "    </tr>\n",
              "    <tr>\n",
              "      <th>49608</th>\n",
              "      <td>27.0</td>\n",
              "      <td>1</td>\n",
              "      <td>0.0</td>\n",
              "      <td>False</td>\n",
              "      <td>3</td>\n",
              "      <td>3</td>\n",
              "      <td>7</td>\n",
              "      <td>6770.0</td>\n",
              "      <td>225</td>\n",
              "      <td>True</td>\n",
              "      <td>2135.49</td>\n",
              "    </tr>\n",
              "    <tr>\n",
              "      <th>49618</th>\n",
              "      <td>32.0</td>\n",
              "      <td>1</td>\n",
              "      <td>23.0</td>\n",
              "      <td>False</td>\n",
              "      <td>2</td>\n",
              "      <td>6</td>\n",
              "      <td>20</td>\n",
              "      <td>1102.0</td>\n",
              "      <td>784</td>\n",
              "      <td>False</td>\n",
              "      <td>923.13</td>\n",
              "    </tr>\n",
              "    <tr>\n",
              "      <th>49625</th>\n",
              "      <td>17.0</td>\n",
              "      <td>0</td>\n",
              "      <td>10.0</td>\n",
              "      <td>True</td>\n",
              "      <td>3</td>\n",
              "      <td>6</td>\n",
              "      <td>6</td>\n",
              "      <td>9100.0</td>\n",
              "      <td>710</td>\n",
              "      <td>True</td>\n",
              "      <td>1521.78</td>\n",
              "    </tr>\n",
              "    <tr>\n",
              "      <th>49626</th>\n",
              "      <td>26.0</td>\n",
              "      <td>1</td>\n",
              "      <td>28.0</td>\n",
              "      <td>False</td>\n",
              "      <td>0</td>\n",
              "      <td>6</td>\n",
              "      <td>12</td>\n",
              "      <td>8474.0</td>\n",
              "      <td>309</td>\n",
              "      <td>True</td>\n",
              "      <td>341.07</td>\n",
              "    </tr>\n",
              "  </tbody>\n",
              "</table>\n",
              "<p>7983 rows × 11 columns</p>\n",
              "</div>"
            ],
            "text/plain": [
              "       Driver1_Age_Start_Licence  Driver1_Licence_Type  Driver1_Licence_Years   \n",
              "0                           27.0                     1                   34.0  \\\n",
              "1                           30.0                     1                   12.0   \n",
              "14                          17.0                     1                   25.0   \n",
              "16                          17.0                     1                   32.0   \n",
              "23                          30.0                     1                   18.0   \n",
              "...                          ...                   ...                    ...   \n",
              "49607                       20.0                     1                   34.0   \n",
              "49608                       27.0                     1                    0.0   \n",
              "49618                       32.0                     1                   23.0   \n",
              "49625                       17.0                     0                   10.0   \n",
              "49626                       26.0                     1                   28.0   \n",
              "\n",
              "       Driver1_Convictions  Driver1_Claims  Driver1_Marital_Status   \n",
              "0                    False               0                       3  \\\n",
              "1                    False               2                       3   \n",
              "14                   False               2                       2   \n",
              "16                   False               0                       5   \n",
              "23                   False               0                       2   \n",
              "...                    ...             ...                     ...   \n",
              "49607                False               0                       2   \n",
              "49608                False               3                       3   \n",
              "49618                False               2                       6   \n",
              "49625                 True               3                       6   \n",
              "49626                False               0                       6   \n",
              "\n",
              "       Vehicle_Age  Vehicle_Annual_Mileage  Credit_Score  Monthly  Premium  \n",
              "0                4                 12849.0           240     True   707.64  \n",
              "1               14                  1250.0           200    False  1176.96  \n",
              "14              10                  1193.0           669     True   334.98  \n",
              "16              13                  4930.0           396    False  1839.00  \n",
              "23               7                  4385.0           791    False   264.21  \n",
              "...            ...                     ...           ...      ...      ...  \n",
              "49607            5                  4103.0           732    False   528.03  \n",
              "49608            7                  6770.0           225     True  2135.49  \n",
              "49618           20                  1102.0           784    False   923.13  \n",
              "49625            6                  9100.0           710     True  1521.78  \n",
              "49626           12                  8474.0           309     True   341.07  \n",
              "\n",
              "[7983 rows x 11 columns]"
            ]
          },
          "execution_count": 52,
          "metadata": {},
          "output_type": "execute_result"
        }
      ],
      "source": [
        "le = preprocessing.LabelEncoder()\n",
        "single_drivers[\"Driver1_Licence_Type\"]=le.fit_transform(single_drivers[\"Driver1_Licence_Type\"])\n",
        "single_drivers[\"Driver1_Marital_Status\"]=le.fit_transform(single_drivers[\"Driver1_Marital_Status\"])\n",
        "single_drivers"
      ]
    },
    {
      "attachments": {},
      "cell_type": "markdown",
      "metadata": {},
      "source": [
        "We can see that the amount of single drivers is almost 8000, so it is big enough to create a good model. Next we split our dataset into train and test features and targets. We are going to use a tree based model, which usually has problems with extrapolation, so we also make sure that the highest train target is not too much higher than the highest test target."
      ]
    },
    {
      "cell_type": "code",
      "execution_count": 53,
      "metadata": {
        "colab": {
          "base_uri": "https://localhost:8080/"
        },
        "id": "n_KaUEJgSKkn",
        "outputId": "f888e9c8-8724-42be-f2e2-dba54785dbf1"
      },
      "outputs": [
        {
          "data": {
            "text/plain": [
              "(19968.44, 19692.41)"
            ]
          },
          "execution_count": 53,
          "metadata": {},
          "output_type": "execute_result"
        }
      ],
      "source": [
        "\n",
        "X,y = single_drivers.iloc[:,:-1], single_drivers.iloc[:,-1]\n",
        "X_train, X_test, y_train, y_test = train_test_split(X, y, test_size=0.2)\n",
        "y_train.max(), y_test.max()"
      ]
    },
    {
      "attachments": {},
      "cell_type": "markdown",
      "metadata": {},
      "source": [
        "We choose XGBooster regressor, as it is a very powerful regression model. It is tree based, which work well with a mixture of categorical and numerical data. This model is also more optimized than other Random Forest models thanks to the gradiant boosting, and it allows to tune the learning rate. We also choose this models because the data does not seem to follow a clear pattern, as can be seen in the following plots."
      ]
    },
    {
      "cell_type": "code",
      "execution_count": 69,
      "metadata": {},
      "outputs": [
        {
          "data": {
            "image/png": "[encoded data removed]",
            "text/plain": [
              "<Figure size 600x2500 with 10 Axes>"
            ]
          },
          "metadata": {},
          "output_type": "display_data"
        }
      ],
      "source": [
        "# Plot the Premium against each feature\n",
        "\n",
        "fig, axs = plt.subplots(len(single_drivers.columns)-1, figsize = (6,25))\n",
        "axs[0].set_title(\"Premium against each variable\")\n",
        "plt.subplots_adjust(top=1.5)\n",
        "for i in range(len(single_drivers.columns[:-1])):\n",
        "    axs[i].scatter(single_drivers[single_drivers.columns[i]], single_drivers[\"Premium\"])\n",
        "    axs[i].set_xlabel(single_drivers.columns[i])\n",
        "    axs[i].set_ylabel(\"Premium\")"
      ]
    },
    {
      "attachments": {},
      "cell_type": "markdown",
      "metadata": {},
      "source": [
        "The model works very well straight away without any parameter tuning, but after a few trials the following choice of parameters seems to permof incredibly well."
      ]
    },
    {
      "cell_type": "code",
      "execution_count": 55,
      "metadata": {
        "id": "68PIKJv05m-s"
      },
      "outputs": [],
      "source": [
        "\n",
        "single_drivers_model = XGBRegressor(eta=0.99, max_depth = 10)"
      ]
    },
    {
      "cell_type": "code",
      "execution_count": 56,
      "metadata": {
        "colab": {
          "base_uri": "https://localhost:8080/",
          "height": 248
        },
        "id": "2qRNBDmd6vGn",
        "outputId": "a43cd06d-88ea-4222-b896-27b1772e2d4c"
      },
      "outputs": [
        {
          "data": {
            "text/html": [
              "<style>#sk-container-id-1 {color: black;background-color: white;}#sk-container-id-1 pre{padding: 0;}#sk-container-id-1 div.sk-toggleable {background-color: white;}#sk-container-id-1 label.sk-toggleable__label {cursor: pointer;display: block;width: 100%;margin-bottom: 0;padding: 0.3em;box-sizing: border-box;text-align: center;}#sk-container-id-1 label.sk-toggleable__label-arrow:before {content: \"▸\";float: left;margin-right: 0.25em;color: #696969;}#sk-container-id-1 label.sk-toggleable__label-arrow:hover:before {color: black;}#sk-container-id-1 div.sk-estimator:hover label.sk-toggleable__label-arrow:before {color: black;}#sk-container-id-1 div.sk-toggleable__content {max-height: 0;max-width: 0;overflow: hidden;text-align: left;background-color: #f0f8ff;}#sk-container-id-1 div.sk-toggleable__content pre {margin: 0.2em;color: black;border-radius: 0.25em;background-color: #f0f8ff;}#sk-container-id-1 input.sk-toggleable__control:checked~div.sk-toggleable__content {max-height: 200px;max-width: 100%;overflow: auto;}#sk-container-id-1 input.sk-toggleable__control:checked~label.sk-toggleable__label-arrow:before {content: \"▾\";}#sk-container-id-1 div.sk-estimator input.sk-toggleable__control:checked~label.sk-toggleable__label {background-color: #d4ebff;}#sk-container-id-1 div.sk-label input.sk-toggleable__control:checked~label.sk-toggleable__label {background-color: #d4ebff;}#sk-container-id-1 input.sk-hidden--visually {border: 0;clip: rect(1px 1px 1px 1px);clip: rect(1px, 1px, 1px, 1px);height: 1px;margin: -1px;overflow: hidden;padding: 0;position: absolute;width: 1px;}#sk-container-id-1 div.sk-estimator {font-family: monospace;background-color: #f0f8ff;border: 1px dotted black;border-radius: 0.25em;box-sizing: border-box;margin-bottom: 0.5em;}#sk-container-id-1 div.sk-estimator:hover {background-color: #d4ebff;}#sk-container-id-1 div.sk-parallel-item::after {content: \"\";width: 100%;border-bottom: 1px solid gray;flex-grow: 1;}#sk-container-id-1 div.sk-label:hover label.sk-toggleable__label {background-color: #d4ebff;}#sk-container-id-1 div.sk-serial::before {content: \"\";position: absolute;border-left: 1px solid gray;box-sizing: border-box;top: 0;bottom: 0;left: 50%;z-index: 0;}#sk-container-id-1 div.sk-serial {display: flex;flex-direction: column;align-items: center;background-color: white;padding-right: 0.2em;padding-left: 0.2em;position: relative;}#sk-container-id-1 div.sk-item {position: relative;z-index: 1;}#sk-container-id-1 div.sk-parallel {display: flex;align-items: stretch;justify-content: center;background-color: white;position: relative;}#sk-container-id-1 div.sk-item::before, #sk-container-id-1 div.sk-parallel-item::before {content: \"\";position: absolute;border-left: 1px solid gray;box-sizing: border-box;top: 0;bottom: 0;left: 50%;z-index: -1;}#sk-container-id-1 div.sk-parallel-item {display: flex;flex-direction: column;z-index: 1;position: relative;background-color: white;}#sk-container-id-1 div.sk-parallel-item:first-child::after {align-self: flex-end;width: 50%;}#sk-container-id-1 div.sk-parallel-item:last-child::after {align-self: flex-start;width: 50%;}#sk-container-id-1 div.sk-parallel-item:only-child::after {width: 0;}#sk-container-id-1 div.sk-dashed-wrapped {border: 1px dashed gray;margin: 0 0.4em 0.5em 0.4em;box-sizing: border-box;padding-bottom: 0.4em;background-color: white;}#sk-container-id-1 div.sk-label label {font-family: monospace;font-weight: bold;display: inline-block;line-height: 1.2em;}#sk-container-id-1 div.sk-label-container {text-align: center;}#sk-container-id-1 div.sk-container {/* jupyter's `normalize.less` sets `[hidden] { display: none; }` but bootstrap.min.css set `[hidden] { display: none !important; }` so we also need the `!important` here to be able to override the default hidden behavior on the sphinx rendered scikit-learn.org. See: https://github.com/scikit-learn/scikit-learn/issues/21755 */display: inline-block !important;position: relative;}#sk-container-id-1 div.sk-text-repr-fallback {display: none;}</style><div id=\"sk-container-id-1\" class=\"sk-top-container\"><div class=\"sk-text-repr-fallback\"><pre>XGBRegressor(base_score=None, booster=None, callbacks=None,\n",
              "             colsample_bylevel=None, colsample_bynode=None,\n",
              "             colsample_bytree=None, early_stopping_rounds=None,\n",
              "             enable_categorical=False, eta=0.99, eval_metric=None,\n",
              "             feature_types=None, gamma=None, gpu_id=None, grow_policy=None,\n",
              "             importance_type=None, interaction_constraints=None,\n",
              "             learning_rate=None, max_bin=None, max_cat_threshold=None,\n",
              "             max_cat_to_onehot=None, max_delta_step=None, max_depth=10,\n",
              "             max_leaves=None, min_child_weight=None, missing=nan,\n",
              "             monotone_constraints=None, n_estimators=100, n_jobs=None,\n",
              "             num_parallel_tree=None, predictor=None, ...)</pre><b>In a Jupyter environment, please rerun this cell to show the HTML representation or trust the notebook. <br />On GitHub, the HTML representation is unable to render, please try loading this page with nbviewer.org.</b></div><div class=\"sk-container\" hidden><div class=\"sk-item\"><div class=\"sk-estimator sk-toggleable\"><input class=\"sk-toggleable__control sk-hidden--visually\" id=\"sk-estimator-id-1\" type=\"checkbox\" checked><label for=\"sk-estimator-id-1\" class=\"sk-toggleable__label sk-toggleable__label-arrow\">XGBRegressor</label><div class=\"sk-toggleable__content\"><pre>XGBRegressor(base_score=None, booster=None, callbacks=None,\n",
              "             colsample_bylevel=None, colsample_bynode=None,\n",
              "             colsample_bytree=None, early_stopping_rounds=None,\n",
              "             enable_categorical=False, eta=0.99, eval_metric=None,\n",
              "             feature_types=None, gamma=None, gpu_id=None, grow_policy=None,\n",
              "             importance_type=None, interaction_constraints=None,\n",
              "             learning_rate=None, max_bin=None, max_cat_threshold=None,\n",
              "             max_cat_to_onehot=None, max_delta_step=None, max_depth=10,\n",
              "             max_leaves=None, min_child_weight=None, missing=nan,\n",
              "             monotone_constraints=None, n_estimators=100, n_jobs=None,\n",
              "             num_parallel_tree=None, predictor=None, ...)</pre></div></div></div></div></div>"
            ],
            "text/plain": [
              "XGBRegressor(base_score=None, booster=None, callbacks=None,\n",
              "             colsample_bylevel=None, colsample_bynode=None,\n",
              "             colsample_bytree=None, early_stopping_rounds=None,\n",
              "             enable_categorical=False, eta=0.99, eval_metric=None,\n",
              "             feature_types=None, gamma=None, gpu_id=None, grow_policy=None,\n",
              "             importance_type=None, interaction_constraints=None,\n",
              "             learning_rate=None, max_bin=None, max_cat_threshold=None,\n",
              "             max_cat_to_onehot=None, max_delta_step=None, max_depth=10,\n",
              "             max_leaves=None, min_child_weight=None, missing=nan,\n",
              "             monotone_constraints=None, n_estimators=100, n_jobs=None,\n",
              "             num_parallel_tree=None, predictor=None, ...)"
            ]
          },
          "execution_count": 56,
          "metadata": {},
          "output_type": "execute_result"
        }
      ],
      "source": [
        "single_drivers_model.fit(X,y)  "
      ]
    },
    {
      "attachments": {},
      "cell_type": "markdown",
      "metadata": {},
      "source": [
        "We can obtain train and test $R^2$ score to assess its performance."
      ]
    },
    {
      "cell_type": "code",
      "execution_count": 57,
      "metadata": {
        "colab": {
          "base_uri": "https://localhost:8080/"
        },
        "id": "TLVv58U05rJ0",
        "outputId": "872d303b-722a-40e6-f2e5-73f509f29ddf"
      },
      "outputs": [
        {
          "data": {
            "text/plain": [
              "(0.9999994271260859, 0.9999994431194202)"
            ]
          },
          "execution_count": 57,
          "metadata": {},
          "output_type": "execute_result"
        }
      ],
      "source": [
        "single_drivers_model.score(X_train,y_train),single_drivers_model.score(X_test,y_test)"
      ]
    },
    {
      "attachments": {},
      "cell_type": "markdown",
      "metadata": {},
      "source": [
        "Both scores are almost 1, showing that the model is almost perfect. Below, we show a scatter plot of the predicted and actual premium of each of the test quotes. The actual premium is hidden below the predicted because of the high accuracy. "
      ]
    },
    {
      "cell_type": "code",
      "execution_count": 72,
      "metadata": {
        "colab": {
          "base_uri": "https://localhost:8080/",
          "height": 430
        },
        "id": "XaAegETiXJKm",
        "outputId": "0878d9db-a5bc-4813-dccd-b4c0f3d87bea"
      },
      "outputs": [
        {
          "data": {
            "image/png": "[encoded data removed]",
            "text/plain": [
              "<Figure size 640x480 with 1 Axes>"
            ]
          },
          "metadata": {},
          "output_type": "display_data"
        }
      ],
      "source": [
        "\n",
        "y_predict = single_drivers_model.predict(X_test)\n",
        "plt.scatter(np.arange(len(y_predict)), y_test, label = \"Actual\")\n",
        "plt.scatter(np.arange(len(y_predict)), y_predict, label = \"Predicted\")\n",
        "plt.legend()\n",
        "plt.title(\"Premium of each test quote\")\n",
        "plt.xlabel(\"Quotes\")\n",
        "plt.ylabel(\"Premium\")\n",
        "plt.show()"
      ]
    },
    {
      "attachments": {},
      "cell_type": "markdown",
      "metadata": {},
      "source": [
        "Below we see that the mean squared error is very small, specially compared to the variance."
      ]
    },
    {
      "cell_type": "code",
      "execution_count": 60,
      "metadata": {},
      "outputs": [
        {
          "data": {
            "text/plain": [
              "(1.1764672461492023, 1453.4794096504181)"
            ]
          },
          "execution_count": 60,
          "metadata": {},
          "output_type": "execute_result"
        }
      ],
      "source": [
        "\n",
        "mean_squared_error(y_predict, y_test), np.std(y_test) #https://stats.stackexchange.com/questions/579755/whats-a-reasonable-mean-squared-error-or-rmse"
      ]
    },
    {
      "attachments": {},
      "cell_type": "markdown",
      "metadata": {},
      "source": [
        "We can also rank each of the features in terms of importance to the model. In a tree based model this is related to how many splits occur on that feature."
      ]
    },
    {
      "cell_type": "code",
      "execution_count": 59,
      "metadata": {},
      "outputs": [
        {
          "data": {
            "image/png": "[encoded data removed]",
            "text/plain": [
              "<Figure size 640x480 with 1 Axes>"
            ]
          },
          "metadata": {},
          "output_type": "display_data"
        }
      ],
      "source": [
        "plot_importance(single_drivers_model)\n",
        "plt.show()"
      ]
    },
    {
      "attachments": {},
      "cell_type": "markdown",
      "metadata": {},
      "source": [
        "We see that features such as `Monthly`, `Driver1_Convictions` and `Driver1_Claims` happen to be less important than expected, being less important then `Driver1_Marital_Status`, which we thought should be the least important. "
      ]
    },
    {
      "attachments": {},
      "cell_type": "markdown",
      "metadata": {},
      "source": [
        "# 2 drivers"
      ]
    },
    {
      "attachments": {},
      "cell_type": "markdown",
      "metadata": {},
      "source": [
        "Next we design our model for two drivers. For this we will need to input some data."
      ]
    },
    {
      "cell_type": "code",
      "execution_count": 61,
      "metadata": {
        "id": "18mIR_T9YjqX"
      },
      "outputs": [
        {
          "data": {
            "text/html": [
              "<div>\n",
              "<style scoped>\n",
              "    .dataframe tbody tr th:only-of-type {\n",
              "        vertical-align: middle;\n",
              "    }\n",
              "\n",
              "    .dataframe tbody tr th {\n",
              "        vertical-align: top;\n",
              "    }\n",
              "\n",
              "    .dataframe thead th {\n",
              "        text-align: right;\n",
              "    }\n",
              "</style>\n",
              "<table border=\"1\" class=\"dataframe\">\n",
              "  <thead>\n",
              "    <tr style=\"text-align: right;\">\n",
              "      <th></th>\n",
              "      <th>Driver1_Age_Start_Licence</th>\n",
              "      <th>Driver1_Licence_Type</th>\n",
              "      <th>Driver1_Licence_Years</th>\n",
              "      <th>Driver2_Licence_Type</th>\n",
              "      <th>Driver2_Licence_Years</th>\n",
              "      <th>Driver1_Convictions</th>\n",
              "      <th>Driver1_Claims</th>\n",
              "      <th>Driver1_Marital_Status</th>\n",
              "      <th>Vehicle_Age</th>\n",
              "      <th>Vehicle_Annual_Mileage</th>\n",
              "      <th>Credit_Score</th>\n",
              "      <th>Monthly</th>\n",
              "      <th>Premium</th>\n",
              "    </tr>\n",
              "  </thead>\n",
              "  <tbody>\n",
              "    <tr>\n",
              "      <th>3</th>\n",
              "      <td>23.0</td>\n",
              "      <td>Full UK</td>\n",
              "      <td>17.0</td>\n",
              "      <td>Full UK</td>\n",
              "      <td>NaN</td>\n",
              "      <td>False</td>\n",
              "      <td>2</td>\n",
              "      <td>Married</td>\n",
              "      <td>6</td>\n",
              "      <td>12266.0</td>\n",
              "      <td>548</td>\n",
              "      <td>False</td>\n",
              "      <td>1282.56</td>\n",
              "    </tr>\n",
              "    <tr>\n",
              "      <th>4</th>\n",
              "      <td>17.0</td>\n",
              "      <td>Full UK</td>\n",
              "      <td>25.0</td>\n",
              "      <td>Full UK</td>\n",
              "      <td>NaN</td>\n",
              "      <td>False</td>\n",
              "      <td>0</td>\n",
              "      <td>Separated</td>\n",
              "      <td>8</td>\n",
              "      <td>11117.0</td>\n",
              "      <td>393</td>\n",
              "      <td>False</td>\n",
              "      <td>1471.02</td>\n",
              "    </tr>\n",
              "    <tr>\n",
              "      <th>5</th>\n",
              "      <td>18.0</td>\n",
              "      <td>Full UK</td>\n",
              "      <td>45.0</td>\n",
              "      <td>Automatic</td>\n",
              "      <td>20.0</td>\n",
              "      <td>False</td>\n",
              "      <td>2</td>\n",
              "      <td>Married</td>\n",
              "      <td>5</td>\n",
              "      <td>3589.0</td>\n",
              "      <td>689</td>\n",
              "      <td>True</td>\n",
              "      <td>730.98</td>\n",
              "    </tr>\n",
              "    <tr>\n",
              "      <th>6</th>\n",
              "      <td>20.0</td>\n",
              "      <td>Full UK</td>\n",
              "      <td>1.0</td>\n",
              "      <td>Provisional UK</td>\n",
              "      <td>22.0</td>\n",
              "      <td>False</td>\n",
              "      <td>0</td>\n",
              "      <td>Widowed</td>\n",
              "      <td>9</td>\n",
              "      <td>2239.0</td>\n",
              "      <td>706</td>\n",
              "      <td>True</td>\n",
              "      <td>1443.33</td>\n",
              "    </tr>\n",
              "    <tr>\n",
              "      <th>7</th>\n",
              "      <td>35.0</td>\n",
              "      <td>Full UK</td>\n",
              "      <td>27.0</td>\n",
              "      <td>Automatic</td>\n",
              "      <td>13.0</td>\n",
              "      <td>False</td>\n",
              "      <td>0</td>\n",
              "      <td>Single</td>\n",
              "      <td>10</td>\n",
              "      <td>3581.0</td>\n",
              "      <td>785</td>\n",
              "      <td>True</td>\n",
              "      <td>642.06</td>\n",
              "    </tr>\n",
              "    <tr>\n",
              "      <th>...</th>\n",
              "      <td>...</td>\n",
              "      <td>...</td>\n",
              "      <td>...</td>\n",
              "      <td>...</td>\n",
              "      <td>...</td>\n",
              "      <td>...</td>\n",
              "      <td>...</td>\n",
              "      <td>...</td>\n",
              "      <td>...</td>\n",
              "      <td>...</td>\n",
              "      <td>...</td>\n",
              "      <td>...</td>\n",
              "      <td>...</td>\n",
              "    </tr>\n",
              "    <tr>\n",
              "      <th>49636</th>\n",
              "      <td>17.0</td>\n",
              "      <td>Full UK</td>\n",
              "      <td>12.0</td>\n",
              "      <td>NaN</td>\n",
              "      <td>24.0</td>\n",
              "      <td>False</td>\n",
              "      <td>0</td>\n",
              "      <td>Other</td>\n",
              "      <td>14</td>\n",
              "      <td>1074.0</td>\n",
              "      <td>397</td>\n",
              "      <td>False</td>\n",
              "      <td>451.50</td>\n",
              "    </tr>\n",
              "    <tr>\n",
              "      <th>49637</th>\n",
              "      <td>26.0</td>\n",
              "      <td>Full UK</td>\n",
              "      <td>1.0</td>\n",
              "      <td>Full UK</td>\n",
              "      <td>25.0</td>\n",
              "      <td>False</td>\n",
              "      <td>0</td>\n",
              "      <td>Married</td>\n",
              "      <td>6</td>\n",
              "      <td>2987.0</td>\n",
              "      <td>158</td>\n",
              "      <td>True</td>\n",
              "      <td>1375.59</td>\n",
              "    </tr>\n",
              "    <tr>\n",
              "      <th>49638</th>\n",
              "      <td>17.0</td>\n",
              "      <td>Automatic</td>\n",
              "      <td>13.0</td>\n",
              "      <td>NaN</td>\n",
              "      <td>24.0</td>\n",
              "      <td>False</td>\n",
              "      <td>0</td>\n",
              "      <td>Civil Partnership</td>\n",
              "      <td>8</td>\n",
              "      <td>3364.0</td>\n",
              "      <td>328</td>\n",
              "      <td>False</td>\n",
              "      <td>1207.05</td>\n",
              "    </tr>\n",
              "    <tr>\n",
              "      <th>49639</th>\n",
              "      <td>71.0</td>\n",
              "      <td>Full UK</td>\n",
              "      <td>0.0</td>\n",
              "      <td>Provisional UK</td>\n",
              "      <td>11.0</td>\n",
              "      <td>False</td>\n",
              "      <td>0</td>\n",
              "      <td>Single</td>\n",
              "      <td>3</td>\n",
              "      <td>9303.0</td>\n",
              "      <td>277</td>\n",
              "      <td>True</td>\n",
              "      <td>1776.93</td>\n",
              "    </tr>\n",
              "    <tr>\n",
              "      <th>49640</th>\n",
              "      <td>29.0</td>\n",
              "      <td>Full UK</td>\n",
              "      <td>32.0</td>\n",
              "      <td>NaN</td>\n",
              "      <td>22.0</td>\n",
              "      <td>False</td>\n",
              "      <td>2</td>\n",
              "      <td>Single</td>\n",
              "      <td>13</td>\n",
              "      <td>1360.0</td>\n",
              "      <td>774</td>\n",
              "      <td>True</td>\n",
              "      <td>824.40</td>\n",
              "    </tr>\n",
              "  </tbody>\n",
              "</table>\n",
              "<p>38747 rows × 13 columns</p>\n",
              "</div>"
            ],
            "text/plain": [
              "       Driver1_Age_Start_Licence Driver1_Licence_Type  Driver1_Licence_Years   \n",
              "3                           23.0              Full UK                   17.0  \\\n",
              "4                           17.0              Full UK                   25.0   \n",
              "5                           18.0              Full UK                   45.0   \n",
              "6                           20.0              Full UK                    1.0   \n",
              "7                           35.0              Full UK                   27.0   \n",
              "...                          ...                  ...                    ...   \n",
              "49636                       17.0              Full UK                   12.0   \n",
              "49637                       26.0              Full UK                    1.0   \n",
              "49638                       17.0            Automatic                   13.0   \n",
              "49639                       71.0              Full UK                    0.0   \n",
              "49640                       29.0              Full UK                   32.0   \n",
              "\n",
              "      Driver2_Licence_Type  Driver2_Licence_Years  Driver1_Convictions   \n",
              "3                  Full UK                    NaN                False  \\\n",
              "4                  Full UK                    NaN                False   \n",
              "5                Automatic                   20.0                False   \n",
              "6           Provisional UK                   22.0                False   \n",
              "7                Automatic                   13.0                False   \n",
              "...                    ...                    ...                  ...   \n",
              "49636                  NaN                   24.0                False   \n",
              "49637              Full UK                   25.0                False   \n",
              "49638                  NaN                   24.0                False   \n",
              "49639       Provisional UK                   11.0                False   \n",
              "49640                  NaN                   22.0                False   \n",
              "\n",
              "       Driver1_Claims Driver1_Marital_Status  Vehicle_Age   \n",
              "3                   2                Married            6  \\\n",
              "4                   0              Separated            8   \n",
              "5                   2                Married            5   \n",
              "6                   0                Widowed            9   \n",
              "7                   0                 Single           10   \n",
              "...               ...                    ...          ...   \n",
              "49636               0                  Other           14   \n",
              "49637               0                Married            6   \n",
              "49638               0      Civil Partnership            8   \n",
              "49639               0                 Single            3   \n",
              "49640               2                 Single           13   \n",
              "\n",
              "       Vehicle_Annual_Mileage  Credit_Score  Monthly  Premium  \n",
              "3                     12266.0           548    False  1282.56  \n",
              "4                     11117.0           393    False  1471.02  \n",
              "5                      3589.0           689     True   730.98  \n",
              "6                      2239.0           706     True  1443.33  \n",
              "7                      3581.0           785     True   642.06  \n",
              "...                       ...           ...      ...      ...  \n",
              "49636                  1074.0           397    False   451.50  \n",
              "49637                  2987.0           158     True  1375.59  \n",
              "49638                  3364.0           328    False  1207.05  \n",
              "49639                  9303.0           277     True  1776.93  \n",
              "49640                  1360.0           774     True   824.40  \n",
              "\n",
              "[38747 rows x 13 columns]"
            ]
          },
          "execution_count": 61,
          "metadata": {},
          "output_type": "execute_result"
        }
      ],
      "source": [
        "two_drivers =quotes[~((quotes[\"Driver2_Licence_Type\"].isna()) & (quotes[\"Driver2_Licence_Years\"].isna()))]\n",
        "two_drivers"
      ]
    },
    {
      "attachments": {},
      "cell_type": "markdown",
      "metadata": {},
      "source": [
        "Since the only information we have about Driver 2 is Licence years and type, we are going to fill the years with the average of each Type. If there are any missing values after that, we fill with overall average. We consider `NaN` to be its own Licence type."
      ]
    },
    {
      "cell_type": "code",
      "execution_count": 75,
      "metadata": {},
      "outputs": [
        {
          "data": {
            "text/plain": [
              "Driver2_Licence_Type\n",
              "Automatic             20.759259\n",
              "Full EU/EEC           18.777778\n",
              "Full International    19.163265\n",
              "Full Non EU/EEC             NaN\n",
              "Full UK               22.366933\n",
              "Provisional UK        20.581522\n",
              "NaN                   21.667106\n",
              "Name: Driver2_Licence_Years, dtype: float64"
            ]
          },
          "execution_count": 75,
          "metadata": {},
          "output_type": "execute_result"
        }
      ],
      "source": [
        "two_drivers.groupby(\"Driver2_Licence_Type\", dropna=False)[\"Driver2_Licence_Years\"].mean() #fill each group with its mean\n"
      ]
    },
    {
      "cell_type": "code",
      "execution_count": 74,
      "metadata": {},
      "outputs": [
        {
          "data": {
            "text/html": [
              "<div>\n",
              "<style scoped>\n",
              "    .dataframe tbody tr th:only-of-type {\n",
              "        vertical-align: middle;\n",
              "    }\n",
              "\n",
              "    .dataframe tbody tr th {\n",
              "        vertical-align: top;\n",
              "    }\n",
              "\n",
              "    .dataframe thead th {\n",
              "        text-align: right;\n",
              "    }\n",
              "</style>\n",
              "<table border=\"1\" class=\"dataframe\">\n",
              "  <thead>\n",
              "    <tr style=\"text-align: right;\">\n",
              "      <th></th>\n",
              "      <th>Driver1_Age_Start_Licence</th>\n",
              "      <th>Driver1_Licence_Type</th>\n",
              "      <th>Driver1_Licence_Years</th>\n",
              "      <th>Driver2_Licence_Type</th>\n",
              "      <th>Driver2_Licence_Years</th>\n",
              "      <th>Driver1_Convictions</th>\n",
              "      <th>Driver1_Claims</th>\n",
              "      <th>Driver1_Marital_Status</th>\n",
              "      <th>Vehicle_Age</th>\n",
              "      <th>Vehicle_Annual_Mileage</th>\n",
              "      <th>Credit_Score</th>\n",
              "      <th>Monthly</th>\n",
              "      <th>Premium</th>\n",
              "    </tr>\n",
              "  </thead>\n",
              "  <tbody>\n",
              "    <tr>\n",
              "      <th>726</th>\n",
              "      <td>32.0</td>\n",
              "      <td>Provisional UK</td>\n",
              "      <td>39.0</td>\n",
              "      <td>Full Non EU/EEC</td>\n",
              "      <td>NaN</td>\n",
              "      <td>True</td>\n",
              "      <td>0</td>\n",
              "      <td>Civil Partnership</td>\n",
              "      <td>10</td>\n",
              "      <td>1435.0</td>\n",
              "      <td>767</td>\n",
              "      <td>True</td>\n",
              "      <td>489.24</td>\n",
              "    </tr>\n",
              "    <tr>\n",
              "      <th>14863</th>\n",
              "      <td>18.0</td>\n",
              "      <td>Provisional UK</td>\n",
              "      <td>17.0</td>\n",
              "      <td>Full Non EU/EEC</td>\n",
              "      <td>NaN</td>\n",
              "      <td>True</td>\n",
              "      <td>1</td>\n",
              "      <td>Married</td>\n",
              "      <td>16</td>\n",
              "      <td>1026.0</td>\n",
              "      <td>239</td>\n",
              "      <td>True</td>\n",
              "      <td>978.03</td>\n",
              "    </tr>\n",
              "  </tbody>\n",
              "</table>\n",
              "</div>"
            ],
            "text/plain": [
              "       Driver1_Age_Start_Licence Driver1_Licence_Type  Driver1_Licence_Years   \n",
              "726                         32.0       Provisional UK                   39.0  \\\n",
              "14863                       18.0       Provisional UK                   17.0   \n",
              "\n",
              "      Driver2_Licence_Type  Driver2_Licence_Years  Driver1_Convictions   \n",
              "726        Full Non EU/EEC                    NaN                 True  \\\n",
              "14863      Full Non EU/EEC                    NaN                 True   \n",
              "\n",
              "       Driver1_Claims Driver1_Marital_Status  Vehicle_Age   \n",
              "726                 0      Civil Partnership           10  \\\n",
              "14863               1                Married           16   \n",
              "\n",
              "       Vehicle_Annual_Mileage  Credit_Score  Monthly  Premium  \n",
              "726                    1435.0           767     True   489.24  \n",
              "14863                  1026.0           239     True   978.03  "
            ]
          },
          "execution_count": 74,
          "metadata": {},
          "output_type": "execute_result"
        }
      ],
      "source": [
        "# Full Non EU/EEC has only NaN values, so fill with overall mean (and there are only two of them)\n",
        "two_drivers[two_drivers[\"Driver2_Licence_Type\"] == \"Full Non EU/EEC\"]"
      ]
    },
    {
      "cell_type": "code",
      "execution_count": 76,
      "metadata": {},
      "outputs": [
        {
          "name": "stderr",
          "output_type": "stream",
          "text": [
            "C:\\Users\\Usuario\\AppData\\Local\\Temp\\ipykernel_11752\\3243076659.py:1: SettingWithCopyWarning: \n",
            "A value is trying to be set on a copy of a slice from a DataFrame.\n",
            "Try using .loc[row_indexer,col_indexer] = value instead\n",
            "\n",
            "See the caveats in the documentation: https://pandas.pydata.org/pandas-docs/stable/user_guide/indexing.html#returning-a-view-versus-a-copy\n",
            "  two_drivers[\"Driver2_Licence_Years\"] = two_drivers.groupby(\"Driver2_Licence_Type\", dropna=False)[\"Driver2_Licence_Years\"].transform(lambda x: x.fillna(x.mean())) #by default groupby drops NaN and I don't want to lose nan driver licence with years\n"
          ]
        }
      ],
      "source": [
        "two_drivers[\"Driver2_Licence_Years\"] = two_drivers.groupby(\"Driver2_Licence_Type\", dropna=False)[\"Driver2_Licence_Years\"].transform(lambda x: x.fillna(x.mean())) #by default groupby drops NaN and I don't want to lose nan driver licence with years"
      ]
    },
    {
      "cell_type": "code",
      "execution_count": 77,
      "metadata": {},
      "outputs": [
        {
          "name": "stderr",
          "output_type": "stream",
          "text": [
            "C:\\Users\\Usuario\\AppData\\Local\\Temp\\ipykernel_11752\\854736404.py:1: SettingWithCopyWarning: \n",
            "A value is trying to be set on a copy of a slice from a DataFrame\n",
            "\n",
            "See the caveats in the documentation: https://pandas.pydata.org/pandas-docs/stable/user_guide/indexing.html#returning-a-view-versus-a-copy\n",
            "  two_drivers[\"Driver2_Licence_Years\"].fillna(two_drivers[\"Driver2_Licence_Years\"].mean(), inplace=True)\n"
          ]
        },
        {
          "data": {
            "text/html": [
              "<div>\n",
              "<style scoped>\n",
              "    .dataframe tbody tr th:only-of-type {\n",
              "        vertical-align: middle;\n",
              "    }\n",
              "\n",
              "    .dataframe tbody tr th {\n",
              "        vertical-align: top;\n",
              "    }\n",
              "\n",
              "    .dataframe thead th {\n",
              "        text-align: right;\n",
              "    }\n",
              "</style>\n",
              "<table border=\"1\" class=\"dataframe\">\n",
              "  <thead>\n",
              "    <tr style=\"text-align: right;\">\n",
              "      <th></th>\n",
              "      <th>Driver1_Age_Start_Licence</th>\n",
              "      <th>Driver1_Licence_Type</th>\n",
              "      <th>Driver1_Licence_Years</th>\n",
              "      <th>Driver2_Licence_Type</th>\n",
              "      <th>Driver2_Licence_Years</th>\n",
              "      <th>Driver1_Convictions</th>\n",
              "      <th>Driver1_Claims</th>\n",
              "      <th>Driver1_Marital_Status</th>\n",
              "      <th>Vehicle_Age</th>\n",
              "      <th>Vehicle_Annual_Mileage</th>\n",
              "      <th>Credit_Score</th>\n",
              "      <th>Monthly</th>\n",
              "      <th>Premium</th>\n",
              "    </tr>\n",
              "  </thead>\n",
              "  <tbody>\n",
              "    <tr>\n",
              "      <th>3</th>\n",
              "      <td>23.0</td>\n",
              "      <td>Full UK</td>\n",
              "      <td>17.0</td>\n",
              "      <td>Full UK</td>\n",
              "      <td>22.366933</td>\n",
              "      <td>False</td>\n",
              "      <td>2</td>\n",
              "      <td>Married</td>\n",
              "      <td>6</td>\n",
              "      <td>12266.0</td>\n",
              "      <td>548</td>\n",
              "      <td>False</td>\n",
              "      <td>1282.56</td>\n",
              "    </tr>\n",
              "    <tr>\n",
              "      <th>4</th>\n",
              "      <td>17.0</td>\n",
              "      <td>Full UK</td>\n",
              "      <td>25.0</td>\n",
              "      <td>Full UK</td>\n",
              "      <td>22.366933</td>\n",
              "      <td>False</td>\n",
              "      <td>0</td>\n",
              "      <td>Separated</td>\n",
              "      <td>8</td>\n",
              "      <td>11117.0</td>\n",
              "      <td>393</td>\n",
              "      <td>False</td>\n",
              "      <td>1471.02</td>\n",
              "    </tr>\n",
              "    <tr>\n",
              "      <th>5</th>\n",
              "      <td>18.0</td>\n",
              "      <td>Full UK</td>\n",
              "      <td>45.0</td>\n",
              "      <td>Automatic</td>\n",
              "      <td>20.000000</td>\n",
              "      <td>False</td>\n",
              "      <td>2</td>\n",
              "      <td>Married</td>\n",
              "      <td>5</td>\n",
              "      <td>3589.0</td>\n",
              "      <td>689</td>\n",
              "      <td>True</td>\n",
              "      <td>730.98</td>\n",
              "    </tr>\n",
              "    <tr>\n",
              "      <th>6</th>\n",
              "      <td>20.0</td>\n",
              "      <td>Full UK</td>\n",
              "      <td>1.0</td>\n",
              "      <td>Provisional UK</td>\n",
              "      <td>22.000000</td>\n",
              "      <td>False</td>\n",
              "      <td>0</td>\n",
              "      <td>Widowed</td>\n",
              "      <td>9</td>\n",
              "      <td>2239.0</td>\n",
              "      <td>706</td>\n",
              "      <td>True</td>\n",
              "      <td>1443.33</td>\n",
              "    </tr>\n",
              "    <tr>\n",
              "      <th>7</th>\n",
              "      <td>35.0</td>\n",
              "      <td>Full UK</td>\n",
              "      <td>27.0</td>\n",
              "      <td>Automatic</td>\n",
              "      <td>13.000000</td>\n",
              "      <td>False</td>\n",
              "      <td>0</td>\n",
              "      <td>Single</td>\n",
              "      <td>10</td>\n",
              "      <td>3581.0</td>\n",
              "      <td>785</td>\n",
              "      <td>True</td>\n",
              "      <td>642.06</td>\n",
              "    </tr>\n",
              "    <tr>\n",
              "      <th>...</th>\n",
              "      <td>...</td>\n",
              "      <td>...</td>\n",
              "      <td>...</td>\n",
              "      <td>...</td>\n",
              "      <td>...</td>\n",
              "      <td>...</td>\n",
              "      <td>...</td>\n",
              "      <td>...</td>\n",
              "      <td>...</td>\n",
              "      <td>...</td>\n",
              "      <td>...</td>\n",
              "      <td>...</td>\n",
              "      <td>...</td>\n",
              "    </tr>\n",
              "    <tr>\n",
              "      <th>49636</th>\n",
              "      <td>17.0</td>\n",
              "      <td>Full UK</td>\n",
              "      <td>12.0</td>\n",
              "      <td>NaN</td>\n",
              "      <td>24.000000</td>\n",
              "      <td>False</td>\n",
              "      <td>0</td>\n",
              "      <td>Other</td>\n",
              "      <td>14</td>\n",
              "      <td>1074.0</td>\n",
              "      <td>397</td>\n",
              "      <td>False</td>\n",
              "      <td>451.50</td>\n",
              "    </tr>\n",
              "    <tr>\n",
              "      <th>49637</th>\n",
              "      <td>26.0</td>\n",
              "      <td>Full UK</td>\n",
              "      <td>1.0</td>\n",
              "      <td>Full UK</td>\n",
              "      <td>25.000000</td>\n",
              "      <td>False</td>\n",
              "      <td>0</td>\n",
              "      <td>Married</td>\n",
              "      <td>6</td>\n",
              "      <td>2987.0</td>\n",
              "      <td>158</td>\n",
              "      <td>True</td>\n",
              "      <td>1375.59</td>\n",
              "    </tr>\n",
              "    <tr>\n",
              "      <th>49638</th>\n",
              "      <td>17.0</td>\n",
              "      <td>Automatic</td>\n",
              "      <td>13.0</td>\n",
              "      <td>NaN</td>\n",
              "      <td>24.000000</td>\n",
              "      <td>False</td>\n",
              "      <td>0</td>\n",
              "      <td>Civil Partnership</td>\n",
              "      <td>8</td>\n",
              "      <td>3364.0</td>\n",
              "      <td>328</td>\n",
              "      <td>False</td>\n",
              "      <td>1207.05</td>\n",
              "    </tr>\n",
              "    <tr>\n",
              "      <th>49639</th>\n",
              "      <td>71.0</td>\n",
              "      <td>Full UK</td>\n",
              "      <td>0.0</td>\n",
              "      <td>Provisional UK</td>\n",
              "      <td>11.000000</td>\n",
              "      <td>False</td>\n",
              "      <td>0</td>\n",
              "      <td>Single</td>\n",
              "      <td>3</td>\n",
              "      <td>9303.0</td>\n",
              "      <td>277</td>\n",
              "      <td>True</td>\n",
              "      <td>1776.93</td>\n",
              "    </tr>\n",
              "    <tr>\n",
              "      <th>49640</th>\n",
              "      <td>29.0</td>\n",
              "      <td>Full UK</td>\n",
              "      <td>32.0</td>\n",
              "      <td>NaN</td>\n",
              "      <td>22.000000</td>\n",
              "      <td>False</td>\n",
              "      <td>2</td>\n",
              "      <td>Single</td>\n",
              "      <td>13</td>\n",
              "      <td>1360.0</td>\n",
              "      <td>774</td>\n",
              "      <td>True</td>\n",
              "      <td>824.40</td>\n",
              "    </tr>\n",
              "  </tbody>\n",
              "</table>\n",
              "<p>38747 rows × 13 columns</p>\n",
              "</div>"
            ],
            "text/plain": [
              "       Driver1_Age_Start_Licence Driver1_Licence_Type  Driver1_Licence_Years   \n",
              "3                           23.0              Full UK                   17.0  \\\n",
              "4                           17.0              Full UK                   25.0   \n",
              "5                           18.0              Full UK                   45.0   \n",
              "6                           20.0              Full UK                    1.0   \n",
              "7                           35.0              Full UK                   27.0   \n",
              "...                          ...                  ...                    ...   \n",
              "49636                       17.0              Full UK                   12.0   \n",
              "49637                       26.0              Full UK                    1.0   \n",
              "49638                       17.0            Automatic                   13.0   \n",
              "49639                       71.0              Full UK                    0.0   \n",
              "49640                       29.0              Full UK                   32.0   \n",
              "\n",
              "      Driver2_Licence_Type  Driver2_Licence_Years  Driver1_Convictions   \n",
              "3                  Full UK              22.366933                False  \\\n",
              "4                  Full UK              22.366933                False   \n",
              "5                Automatic              20.000000                False   \n",
              "6           Provisional UK              22.000000                False   \n",
              "7                Automatic              13.000000                False   \n",
              "...                    ...                    ...                  ...   \n",
              "49636                  NaN              24.000000                False   \n",
              "49637              Full UK              25.000000                False   \n",
              "49638                  NaN              24.000000                False   \n",
              "49639       Provisional UK              11.000000                False   \n",
              "49640                  NaN              22.000000                False   \n",
              "\n",
              "       Driver1_Claims Driver1_Marital_Status  Vehicle_Age   \n",
              "3                   2                Married            6  \\\n",
              "4                   0              Separated            8   \n",
              "5                   2                Married            5   \n",
              "6                   0                Widowed            9   \n",
              "7                   0                 Single           10   \n",
              "...               ...                    ...          ...   \n",
              "49636               0                  Other           14   \n",
              "49637               0                Married            6   \n",
              "49638               0      Civil Partnership            8   \n",
              "49639               0                 Single            3   \n",
              "49640               2                 Single           13   \n",
              "\n",
              "       Vehicle_Annual_Mileage  Credit_Score  Monthly  Premium  \n",
              "3                     12266.0           548    False  1282.56  \n",
              "4                     11117.0           393    False  1471.02  \n",
              "5                      3589.0           689     True   730.98  \n",
              "6                      2239.0           706     True  1443.33  \n",
              "7                      3581.0           785     True   642.06  \n",
              "...                       ...           ...      ...      ...  \n",
              "49636                  1074.0           397    False   451.50  \n",
              "49637                  2987.0           158     True  1375.59  \n",
              "49638                  3364.0           328    False  1207.05  \n",
              "49639                  9303.0           277     True  1776.93  \n",
              "49640                  1360.0           774     True   824.40  \n",
              "\n",
              "[38747 rows x 13 columns]"
            ]
          },
          "execution_count": 77,
          "metadata": {},
          "output_type": "execute_result"
        }
      ],
      "source": [
        "two_drivers[\"Driver2_Licence_Years\"].fillna(two_drivers[\"Driver2_Licence_Years\"].mean(), inplace=True)\n",
        "two_drivers"
      ]
    },
    {
      "attachments": {},
      "cell_type": "markdown",
      "metadata": {},
      "source": [
        "From here we follow as for the single drivers model. We encode categorical data and build a XGBoost regressor with custom parameters."
      ]
    },
    {
      "cell_type": "code",
      "execution_count": 78,
      "metadata": {},
      "outputs": [
        {
          "name": "stderr",
          "output_type": "stream",
          "text": [
            "C:\\Users\\Usuario\\AppData\\Local\\Temp\\ipykernel_11752\\2975542393.py:3: SettingWithCopyWarning: \n",
            "A value is trying to be set on a copy of a slice from a DataFrame.\n",
            "Try using .loc[row_indexer,col_indexer] = value instead\n",
            "\n",
            "See the caveats in the documentation: https://pandas.pydata.org/pandas-docs/stable/user_guide/indexing.html#returning-a-view-versus-a-copy\n",
            "  two_drivers[\"Driver1_Licence_Type\"]=le.fit_transform(two_drivers[\"Driver1_Licence_Type\"])\n",
            "C:\\Users\\Usuario\\AppData\\Local\\Temp\\ipykernel_11752\\2975542393.py:4: SettingWithCopyWarning: \n",
            "A value is trying to be set on a copy of a slice from a DataFrame.\n",
            "Try using .loc[row_indexer,col_indexer] = value instead\n",
            "\n",
            "See the caveats in the documentation: https://pandas.pydata.org/pandas-docs/stable/user_guide/indexing.html#returning-a-view-versus-a-copy\n",
            "  two_drivers[\"Driver2_Licence_Type\"]=le.fit_transform(two_drivers[\"Driver2_Licence_Type\"])\n",
            "C:\\Users\\Usuario\\AppData\\Local\\Temp\\ipykernel_11752\\2975542393.py:5: SettingWithCopyWarning: \n",
            "A value is trying to be set on a copy of a slice from a DataFrame.\n",
            "Try using .loc[row_indexer,col_indexer] = value instead\n",
            "\n",
            "See the caveats in the documentation: https://pandas.pydata.org/pandas-docs/stable/user_guide/indexing.html#returning-a-view-versus-a-copy\n",
            "  two_drivers[\"Driver1_Marital_Status\"]=le.fit_transform(two_drivers[\"Driver1_Marital_Status\"])\n"
          ]
        },
        {
          "data": {
            "text/html": [
              "<div>\n",
              "<style scoped>\n",
              "    .dataframe tbody tr th:only-of-type {\n",
              "        vertical-align: middle;\n",
              "    }\n",
              "\n",
              "    .dataframe tbody tr th {\n",
              "        vertical-align: top;\n",
              "    }\n",
              "\n",
              "    .dataframe thead th {\n",
              "        text-align: right;\n",
              "    }\n",
              "</style>\n",
              "<table border=\"1\" class=\"dataframe\">\n",
              "  <thead>\n",
              "    <tr style=\"text-align: right;\">\n",
              "      <th></th>\n",
              "      <th>Driver1_Age_Start_Licence</th>\n",
              "      <th>Driver1_Licence_Type</th>\n",
              "      <th>Driver1_Licence_Years</th>\n",
              "      <th>Driver2_Licence_Type</th>\n",
              "      <th>Driver2_Licence_Years</th>\n",
              "      <th>Driver1_Convictions</th>\n",
              "      <th>Driver1_Claims</th>\n",
              "      <th>Driver1_Marital_Status</th>\n",
              "      <th>Vehicle_Age</th>\n",
              "      <th>Vehicle_Annual_Mileage</th>\n",
              "      <th>Credit_Score</th>\n",
              "      <th>Monthly</th>\n",
              "      <th>Premium</th>\n",
              "    </tr>\n",
              "  </thead>\n",
              "  <tbody>\n",
              "    <tr>\n",
              "      <th>3</th>\n",
              "      <td>23.0</td>\n",
              "      <td>2</td>\n",
              "      <td>17.0</td>\n",
              "      <td>4</td>\n",
              "      <td>22.366933</td>\n",
              "      <td>False</td>\n",
              "      <td>2</td>\n",
              "      <td>3</td>\n",
              "      <td>6</td>\n",
              "      <td>12266.0</td>\n",
              "      <td>548</td>\n",
              "      <td>False</td>\n",
              "      <td>1282.56</td>\n",
              "    </tr>\n",
              "    <tr>\n",
              "      <th>4</th>\n",
              "      <td>17.0</td>\n",
              "      <td>2</td>\n",
              "      <td>25.0</td>\n",
              "      <td>4</td>\n",
              "      <td>22.366933</td>\n",
              "      <td>False</td>\n",
              "      <td>0</td>\n",
              "      <td>5</td>\n",
              "      <td>8</td>\n",
              "      <td>11117.0</td>\n",
              "      <td>393</td>\n",
              "      <td>False</td>\n",
              "      <td>1471.02</td>\n",
              "    </tr>\n",
              "    <tr>\n",
              "      <th>5</th>\n",
              "      <td>18.0</td>\n",
              "      <td>2</td>\n",
              "      <td>45.0</td>\n",
              "      <td>0</td>\n",
              "      <td>20.000000</td>\n",
              "      <td>False</td>\n",
              "      <td>2</td>\n",
              "      <td>3</td>\n",
              "      <td>5</td>\n",
              "      <td>3589.0</td>\n",
              "      <td>689</td>\n",
              "      <td>True</td>\n",
              "      <td>730.98</td>\n",
              "    </tr>\n",
              "    <tr>\n",
              "      <th>6</th>\n",
              "      <td>20.0</td>\n",
              "      <td>2</td>\n",
              "      <td>1.0</td>\n",
              "      <td>5</td>\n",
              "      <td>22.000000</td>\n",
              "      <td>False</td>\n",
              "      <td>0</td>\n",
              "      <td>7</td>\n",
              "      <td>9</td>\n",
              "      <td>2239.0</td>\n",
              "      <td>706</td>\n",
              "      <td>True</td>\n",
              "      <td>1443.33</td>\n",
              "    </tr>\n",
              "    <tr>\n",
              "      <th>7</th>\n",
              "      <td>35.0</td>\n",
              "      <td>2</td>\n",
              "      <td>27.0</td>\n",
              "      <td>0</td>\n",
              "      <td>13.000000</td>\n",
              "      <td>False</td>\n",
              "      <td>0</td>\n",
              "      <td>6</td>\n",
              "      <td>10</td>\n",
              "      <td>3581.0</td>\n",
              "      <td>785</td>\n",
              "      <td>True</td>\n",
              "      <td>642.06</td>\n",
              "    </tr>\n",
              "    <tr>\n",
              "      <th>...</th>\n",
              "      <td>...</td>\n",
              "      <td>...</td>\n",
              "      <td>...</td>\n",
              "      <td>...</td>\n",
              "      <td>...</td>\n",
              "      <td>...</td>\n",
              "      <td>...</td>\n",
              "      <td>...</td>\n",
              "      <td>...</td>\n",
              "      <td>...</td>\n",
              "      <td>...</td>\n",
              "      <td>...</td>\n",
              "      <td>...</td>\n",
              "    </tr>\n",
              "    <tr>\n",
              "      <th>49636</th>\n",
              "      <td>17.0</td>\n",
              "      <td>2</td>\n",
              "      <td>12.0</td>\n",
              "      <td>6</td>\n",
              "      <td>24.000000</td>\n",
              "      <td>False</td>\n",
              "      <td>0</td>\n",
              "      <td>4</td>\n",
              "      <td>14</td>\n",
              "      <td>1074.0</td>\n",
              "      <td>397</td>\n",
              "      <td>False</td>\n",
              "      <td>451.50</td>\n",
              "    </tr>\n",
              "    <tr>\n",
              "      <th>49637</th>\n",
              "      <td>26.0</td>\n",
              "      <td>2</td>\n",
              "      <td>1.0</td>\n",
              "      <td>4</td>\n",
              "      <td>25.000000</td>\n",
              "      <td>False</td>\n",
              "      <td>0</td>\n",
              "      <td>3</td>\n",
              "      <td>6</td>\n",
              "      <td>2987.0</td>\n",
              "      <td>158</td>\n",
              "      <td>True</td>\n",
              "      <td>1375.59</td>\n",
              "    </tr>\n",
              "    <tr>\n",
              "      <th>49638</th>\n",
              "      <td>17.0</td>\n",
              "      <td>0</td>\n",
              "      <td>13.0</td>\n",
              "      <td>6</td>\n",
              "      <td>24.000000</td>\n",
              "      <td>False</td>\n",
              "      <td>0</td>\n",
              "      <td>0</td>\n",
              "      <td>8</td>\n",
              "      <td>3364.0</td>\n",
              "      <td>328</td>\n",
              "      <td>False</td>\n",
              "      <td>1207.05</td>\n",
              "    </tr>\n",
              "    <tr>\n",
              "      <th>49639</th>\n",
              "      <td>71.0</td>\n",
              "      <td>2</td>\n",
              "      <td>0.0</td>\n",
              "      <td>5</td>\n",
              "      <td>11.000000</td>\n",
              "      <td>False</td>\n",
              "      <td>0</td>\n",
              "      <td>6</td>\n",
              "      <td>3</td>\n",
              "      <td>9303.0</td>\n",
              "      <td>277</td>\n",
              "      <td>True</td>\n",
              "      <td>1776.93</td>\n",
              "    </tr>\n",
              "    <tr>\n",
              "      <th>49640</th>\n",
              "      <td>29.0</td>\n",
              "      <td>2</td>\n",
              "      <td>32.0</td>\n",
              "      <td>6</td>\n",
              "      <td>22.000000</td>\n",
              "      <td>False</td>\n",
              "      <td>2</td>\n",
              "      <td>6</td>\n",
              "      <td>13</td>\n",
              "      <td>1360.0</td>\n",
              "      <td>774</td>\n",
              "      <td>True</td>\n",
              "      <td>824.40</td>\n",
              "    </tr>\n",
              "  </tbody>\n",
              "</table>\n",
              "<p>38747 rows × 13 columns</p>\n",
              "</div>"
            ],
            "text/plain": [
              "       Driver1_Age_Start_Licence  Driver1_Licence_Type  Driver1_Licence_Years   \n",
              "3                           23.0                     2                   17.0  \\\n",
              "4                           17.0                     2                   25.0   \n",
              "5                           18.0                     2                   45.0   \n",
              "6                           20.0                     2                    1.0   \n",
              "7                           35.0                     2                   27.0   \n",
              "...                          ...                   ...                    ...   \n",
              "49636                       17.0                     2                   12.0   \n",
              "49637                       26.0                     2                    1.0   \n",
              "49638                       17.0                     0                   13.0   \n",
              "49639                       71.0                     2                    0.0   \n",
              "49640                       29.0                     2                   32.0   \n",
              "\n",
              "       Driver2_Licence_Type  Driver2_Licence_Years  Driver1_Convictions   \n",
              "3                         4              22.366933                False  \\\n",
              "4                         4              22.366933                False   \n",
              "5                         0              20.000000                False   \n",
              "6                         5              22.000000                False   \n",
              "7                         0              13.000000                False   \n",
              "...                     ...                    ...                  ...   \n",
              "49636                     6              24.000000                False   \n",
              "49637                     4              25.000000                False   \n",
              "49638                     6              24.000000                False   \n",
              "49639                     5              11.000000                False   \n",
              "49640                     6              22.000000                False   \n",
              "\n",
              "       Driver1_Claims  Driver1_Marital_Status  Vehicle_Age   \n",
              "3                   2                       3            6  \\\n",
              "4                   0                       5            8   \n",
              "5                   2                       3            5   \n",
              "6                   0                       7            9   \n",
              "7                   0                       6           10   \n",
              "...               ...                     ...          ...   \n",
              "49636               0                       4           14   \n",
              "49637               0                       3            6   \n",
              "49638               0                       0            8   \n",
              "49639               0                       6            3   \n",
              "49640               2                       6           13   \n",
              "\n",
              "       Vehicle_Annual_Mileage  Credit_Score  Monthly  Premium  \n",
              "3                     12266.0           548    False  1282.56  \n",
              "4                     11117.0           393    False  1471.02  \n",
              "5                      3589.0           689     True   730.98  \n",
              "6                      2239.0           706     True  1443.33  \n",
              "7                      3581.0           785     True   642.06  \n",
              "...                       ...           ...      ...      ...  \n",
              "49636                  1074.0           397    False   451.50  \n",
              "49637                  2987.0           158     True  1375.59  \n",
              "49638                  3364.0           328    False  1207.05  \n",
              "49639                  9303.0           277     True  1776.93  \n",
              "49640                  1360.0           774     True   824.40  \n",
              "\n",
              "[38747 rows x 13 columns]"
            ]
          },
          "execution_count": 78,
          "metadata": {},
          "output_type": "execute_result"
        }
      ],
      "source": [
        "from sklearn import preprocessing\n",
        "le = preprocessing.LabelEncoder()\n",
        "two_drivers[\"Driver1_Licence_Type\"]=le.fit_transform(two_drivers[\"Driver1_Licence_Type\"])\n",
        "two_drivers[\"Driver2_Licence_Type\"]=le.fit_transform(two_drivers[\"Driver2_Licence_Type\"])\n",
        "two_drivers[\"Driver1_Marital_Status\"]=le.fit_transform(two_drivers[\"Driver1_Marital_Status\"])\n",
        "two_drivers"
      ]
    },
    {
      "cell_type": "code",
      "execution_count": 79,
      "metadata": {},
      "outputs": [
        {
          "data": {
            "text/plain": [
              "(19946.7, 19753.41)"
            ]
          },
          "execution_count": 79,
          "metadata": {},
          "output_type": "execute_result"
        }
      ],
      "source": [
        "X,y = two_drivers.iloc[:,:-1], two_drivers.iloc[:,-1]\n",
        "X_train, X_test, y_train, y_test = train_test_split(X, y, test_size=0.2)\n",
        "y_train.max(), y_test.max()"
      ]
    },
    {
      "attachments": {},
      "cell_type": "markdown",
      "metadata": {},
      "source": [
        "As we can see from the $R^2$ score, the plots and the mean squared error, the performance is again astonishing."
      ]
    },
    {
      "cell_type": "code",
      "execution_count": 80,
      "metadata": {},
      "outputs": [
        {
          "data": {
            "text/plain": [
              "(0.9999999994254671, 0.9999999994681102)"
            ]
          },
          "execution_count": 80,
          "metadata": {},
          "output_type": "execute_result"
        }
      ],
      "source": [
        "model = XGBRegressor(eta=0.99, max_depth = 15)\n",
        "model.fit(X,y)  \n",
        "model.score(X_train,y_train),model.score(X_test,y_test)"
      ]
    },
    {
      "cell_type": "code",
      "execution_count": 81,
      "metadata": {},
      "outputs": [
        {
          "data": {
            "image/png": "[encoded data removed]",
            "text/plain": [
              "<Figure size 640x480 with 1 Axes>"
            ]
          },
          "metadata": {},
          "output_type": "display_data"
        }
      ],
      "source": [
        "import matplotlib.pyplot as plt\n",
        "y_predict = model.predict(X_test)\n",
        "plt.scatter(np.arange(len(y_predict)), y_test, label = \"Actual\")\n",
        "plt.scatter(np.arange(len(y_predict)), y_predict, label = \"Predicted\")\n",
        "plt.legend()\n",
        "plt.title(\"Premium of each test quote\")\n",
        "plt.xlabel(\"Quotes\")\n",
        "plt.ylabel(\"Premium\")\n",
        "plt.show()"
      ]
    },
    {
      "cell_type": "code",
      "execution_count": 83,
      "metadata": {},
      "outputs": [
        {
          "data": {
            "text/plain": [
              "(0.0008326131616173824, 1251.1542114480749)"
            ]
          },
          "execution_count": 83,
          "metadata": {},
          "output_type": "execute_result"
        }
      ],
      "source": [
        "mean_squared_error(y_predict, y_test), np.std(y_test)"
      ]
    },
    {
      "attachments": {},
      "cell_type": "markdown",
      "metadata": {},
      "source": [
        "We get similar feature importances for the two drivers model."
      ]
    },
    {
      "cell_type": "code",
      "execution_count": 82,
      "metadata": {},
      "outputs": [
        {
          "data": {
            "image/png": "[encoded data removed]",
            "text/plain": [
              "<Figure size 640x480 with 1 Axes>"
            ]
          },
          "metadata": {},
          "output_type": "display_data"
        }
      ],
      "source": [
        "from xgboost import plot_importance\n",
        "plot_importance(model)\n",
        "plt.show()"
      ]
    },
    {
      "cell_type": "code",
      "execution_count": null,
      "metadata": {},
      "outputs": [],
      "source": []
    }
  ],
  "metadata": {
    "colab": {
      "provenance": []
    },
    "kernelspec": {
      "display_name": "Python 3",
      "name": "python3"
    },
    "language_info": {
      "codemirror_mode": {
        "name": "ipython",
        "version": 3
      },
      "file_extension": ".py",
      "mimetype": "text/x-python",
      "name": "python",
      "nbconvert_exporter": "python",
      "pygments_lexer": "ipython3",
      "version": "3.11.3"
    }
  },
  "nbformat": 4,
  "nbformat_minor": 0
}
